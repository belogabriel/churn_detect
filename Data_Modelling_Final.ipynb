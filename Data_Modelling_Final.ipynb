{
  "cells": [
    {
      "cell_type": "markdown",
      "metadata": {
        "id": "view-in-github",
        "colab_type": "text"
      },
      "source": [
        "<a href=\"https://colab.research.google.com/github/belogabriel/churn_detect/blob/main/Data_Modelling_Final.ipynb\" target=\"_parent\"><img src=\"https://colab.research.google.com/assets/colab-badge.svg\" alt=\"Open In Colab\"/></a>"
      ]
    },
    {
      "cell_type": "markdown",
      "metadata": {
        "id": "ouYNfRkdJ6xf"
      },
      "source": [
        "# Importando Bibliotecas"
      ]
    },
    {
      "cell_type": "code",
      "execution_count": null,
      "metadata": {
        "colab": {
          "base_uri": "https://localhost:8080/"
        },
        "id": "tCkOx4r5F3Vo",
        "outputId": "6dbea349-58ef-4619-aa3f-2b8a59de108a"
      },
      "outputs": [
        {
          "name": "stdout",
          "output_type": "stream",
          "text": [
            "Requirement already satisfied: imblearn in /home/rodrigo/Programming/anaconda3/envs/ml/lib/python3.8/site-packages (0.0)\n",
            "Requirement already satisfied: imbalanced-learn in /home/rodrigo/Programming/anaconda3/envs/ml/lib/python3.8/site-packages (from imblearn) (0.10.1)\n",
            "Requirement already satisfied: scipy>=1.3.2 in /home/rodrigo/Programming/anaconda3/envs/ml/lib/python3.8/site-packages (from imbalanced-learn->imblearn) (1.10.1)\n",
            "Requirement already satisfied: scikit-learn>=1.0.2 in /home/rodrigo/Programming/anaconda3/envs/ml/lib/python3.8/site-packages (from imbalanced-learn->imblearn) (1.2.1)\n",
            "Requirement already satisfied: numpy>=1.17.3 in /home/rodrigo/Programming/anaconda3/envs/ml/lib/python3.8/site-packages (from imbalanced-learn->imblearn) (1.24.2)\n",
            "Requirement already satisfied: joblib>=1.1.1 in /home/rodrigo/Programming/anaconda3/envs/ml/lib/python3.8/site-packages (from imbalanced-learn->imblearn) (1.2.0)\n",
            "Requirement already satisfied: threadpoolctl>=2.0.0 in /home/rodrigo/Programming/anaconda3/envs/ml/lib/python3.8/site-packages (from imbalanced-learn->imblearn) (3.1.0)\n",
            "Note: you may need to restart the kernel to use updated packages.\n",
            "Requirement already satisfied: xgboost in /home/rodrigo/Programming/anaconda3/envs/ml/lib/python3.8/site-packages (1.7.5)\n",
            "Requirement already satisfied: scipy in /home/rodrigo/Programming/anaconda3/envs/ml/lib/python3.8/site-packages (from xgboost) (1.10.1)\n",
            "Requirement already satisfied: numpy in /home/rodrigo/Programming/anaconda3/envs/ml/lib/python3.8/site-packages (from xgboost) (1.24.2)\n",
            "Note: you may need to restart the kernel to use updated packages.\n"
          ]
        }
      ],
      "source": [
        "%pip install imblearn\n",
        "%pip install xgboost"
      ]
    },
    {
      "cell_type": "code",
      "execution_count": null,
      "metadata": {
        "id": "D24jYliYFw1K"
      },
      "outputs": [],
      "source": [
        "import numpy as np\n",
        "import pandas as pd\n",
        "\n",
        "import seaborn as sns\n",
        "import matplotlib.pyplot as plt\n",
        "\n",
        "from sklearn.preprocessing import StandardScaler\n",
        "from sklearn.tree import DecisionTreeClassifier\n",
        "from sklearn.ensemble import RandomForestClassifier, AdaBoostClassifier, GradientBoostingClassifier\n",
        "from sklearn.model_selection import train_test_split, GridSearchCV\n",
        "from sklearn.metrics import accuracy_score, precision_score, recall_score, f1_score,confusion_matrix, ConfusionMatrixDisplay\n",
        "\n",
        "from imblearn.over_sampling import SMOTE\n",
        "\n",
        "from xgboost import XGBClassifier"
      ]
    },
    {
      "cell_type": "markdown",
      "metadata": {
        "id": "8vmSZHHQJ-4i"
      },
      "source": [
        "# Data Understanding"
      ]
    },
    {
      "cell_type": "markdown",
      "metadata": {
        "id": "TlvWYAHuM_cP"
      },
      "source": [
        "## df_caixa"
      ]
    },
    {
      "cell_type": "code",
      "execution_count": null,
      "metadata": {
        "colab": {
          "base_uri": "https://localhost:8080/",
          "height": 206
        },
        "id": "irmlYwePF_LJ",
        "outputId": "b474697c-7c3e-49c8-fca5-8c7b4977986a"
      },
      "outputs": [
        {
          "data": {
            "text/html": [
              "<div>\n",
              "<style scoped>\n",
              "    .dataframe tbody tr th:only-of-type {\n",
              "        vertical-align: middle;\n",
              "    }\n",
              "\n",
              "    .dataframe tbody tr th {\n",
              "        vertical-align: top;\n",
              "    }\n",
              "\n",
              "    .dataframe thead th {\n",
              "        text-align: right;\n",
              "    }\n",
              "</style>\n",
              "<table border=\"1\" class=\"dataframe\">\n",
              "  <thead>\n",
              "    <tr style=\"text-align: right;\">\n",
              "      <th></th>\n",
              "      <th>salao_id</th>\n",
              "      <th>status</th>\n",
              "      <th>datacad_mes</th>\n",
              "      <th>valor</th>\n",
              "      <th>movimentacoes</th>\n",
              "    </tr>\n",
              "  </thead>\n",
              "  <tbody>\n",
              "    <tr>\n",
              "      <th>0</th>\n",
              "      <td>62259</td>\n",
              "      <td>1</td>\n",
              "      <td>2022-03-01</td>\n",
              "      <td>-659.45</td>\n",
              "      <td>25</td>\n",
              "    </tr>\n",
              "    <tr>\n",
              "      <th>1</th>\n",
              "      <td>23822</td>\n",
              "      <td>1</td>\n",
              "      <td>2019-05-01</td>\n",
              "      <td>-15358.44</td>\n",
              "      <td>121</td>\n",
              "    </tr>\n",
              "    <tr>\n",
              "      <th>2</th>\n",
              "      <td>51335</td>\n",
              "      <td>1</td>\n",
              "      <td>2020-01-01</td>\n",
              "      <td>-3076.84</td>\n",
              "      <td>32</td>\n",
              "    </tr>\n",
              "    <tr>\n",
              "      <th>3</th>\n",
              "      <td>37555</td>\n",
              "      <td>1</td>\n",
              "      <td>2020-02-01</td>\n",
              "      <td>-532.00</td>\n",
              "      <td>21</td>\n",
              "    </tr>\n",
              "    <tr>\n",
              "      <th>4</th>\n",
              "      <td>62312</td>\n",
              "      <td>1</td>\n",
              "      <td>2020-02-01</td>\n",
              "      <td>-11347.02</td>\n",
              "      <td>146</td>\n",
              "    </tr>\n",
              "  </tbody>\n",
              "</table>\n",
              "</div>"
            ],
            "text/plain": [
              "   salao_id  status datacad_mes     valor  movimentacoes\n",
              "0     62259       1  2022-03-01   -659.45             25\n",
              "1     23822       1  2019-05-01 -15358.44            121\n",
              "2     51335       1  2020-01-01  -3076.84             32\n",
              "3     37555       1  2020-02-01   -532.00             21\n",
              "4     62312       1  2020-02-01 -11347.02            146"
            ]
          },
          "execution_count": 154,
          "metadata": {},
          "output_type": "execute_result"
        }
      ],
      "source": [
        "df_caixa = pd.read_csv('Data/dnc_caixa.csv')\n",
        "df_caixa.head()\n",
        "# A coluna valor nos apresenta valores positivos e negativos, a coluna movimentações apresenta apenas\n",
        "# valores positivos, ou seja, a coluna valor representa a soma de todas as entradas e saídas, podendo\n",
        "# fechar o dia no negativo ou positivo. Já a coluna movimentações representa a quantidade de entradas\n",
        "# e saídas"
      ]
    },
    {
      "cell_type": "code",
      "execution_count": null,
      "metadata": {
        "colab": {
          "base_uri": "https://localhost:8080/"
        },
        "id": "fUfQ8mzkd6_s",
        "outputId": "d7f498ad-a9fe-42bb-be3e-1dac76eb8400"
      },
      "outputs": [
        {
          "name": "stdout",
          "output_type": "stream",
          "text": [
            "<class 'pandas.core.frame.DataFrame'>\n",
            "RangeIndex: 231299 entries, 0 to 231298\n",
            "Data columns (total 5 columns):\n",
            " #   Column         Non-Null Count   Dtype  \n",
            "---  ------         --------------   -----  \n",
            " 0   salao_id       231299 non-null  int64  \n",
            " 1   status         231299 non-null  int64  \n",
            " 2   datacad_mes    231299 non-null  object \n",
            " 3   valor          231298 non-null  float64\n",
            " 4   movimentacoes  231299 non-null  int64  \n",
            "dtypes: float64(1), int64(3), object(1)\n",
            "memory usage: 8.8+ MB\n"
          ]
        }
      ],
      "source": [
        "df_caixa.info()\n",
        "#Apenas um dado faltante na coluna valor"
      ]
    },
    {
      "cell_type": "code",
      "execution_count": null,
      "metadata": {
        "colab": {
          "base_uri": "https://localhost:8080/",
          "height": 301
        },
        "id": "k4xncZHyei3-",
        "outputId": "97f866c4-4f8a-4d52-c5b4-056bdd67a83e"
      },
      "outputs": [
        {
          "data": {
            "text/html": [
              "<div>\n",
              "<style scoped>\n",
              "    .dataframe tbody tr th:only-of-type {\n",
              "        vertical-align: middle;\n",
              "    }\n",
              "\n",
              "    .dataframe tbody tr th {\n",
              "        vertical-align: top;\n",
              "    }\n",
              "\n",
              "    .dataframe thead th {\n",
              "        text-align: right;\n",
              "    }\n",
              "</style>\n",
              "<table border=\"1\" class=\"dataframe\">\n",
              "  <thead>\n",
              "    <tr style=\"text-align: right;\">\n",
              "      <th></th>\n",
              "      <th>salao_id</th>\n",
              "      <th>status</th>\n",
              "      <th>valor</th>\n",
              "      <th>movimentacoes</th>\n",
              "    </tr>\n",
              "  </thead>\n",
              "  <tbody>\n",
              "    <tr>\n",
              "      <th>count</th>\n",
              "      <td>231299.000000</td>\n",
              "      <td>231299.000000</td>\n",
              "      <td>2.312980e+05</td>\n",
              "      <td>231299.000000</td>\n",
              "    </tr>\n",
              "    <tr>\n",
              "      <th>mean</th>\n",
              "      <td>52620.707439</td>\n",
              "      <td>0.638762</td>\n",
              "      <td>2.339182e+03</td>\n",
              "      <td>24.886558</td>\n",
              "    </tr>\n",
              "    <tr>\n",
              "      <th>std</th>\n",
              "      <td>20197.973647</td>\n",
              "      <td>0.480360</td>\n",
              "      <td>2.081368e+06</td>\n",
              "      <td>41.562228</td>\n",
              "    </tr>\n",
              "    <tr>\n",
              "      <th>min</th>\n",
              "      <td>100.000000</td>\n",
              "      <td>0.000000</td>\n",
              "      <td>-8.211342e+05</td>\n",
              "      <td>1.000000</td>\n",
              "    </tr>\n",
              "    <tr>\n",
              "      <th>25%</th>\n",
              "      <td>36123.000000</td>\n",
              "      <td>0.000000</td>\n",
              "      <td>-2.338100e+03</td>\n",
              "      <td>2.000000</td>\n",
              "    </tr>\n",
              "    <tr>\n",
              "      <th>50%</th>\n",
              "      <td>58884.000000</td>\n",
              "      <td>1.000000</td>\n",
              "      <td>-5.088900e+02</td>\n",
              "      <td>9.000000</td>\n",
              "    </tr>\n",
              "    <tr>\n",
              "      <th>75%</th>\n",
              "      <td>66506.000000</td>\n",
              "      <td>1.000000</td>\n",
              "      <td>-7.200000e+01</td>\n",
              "      <td>30.000000</td>\n",
              "    </tr>\n",
              "    <tr>\n",
              "      <th>max</th>\n",
              "      <td>87912.000000</td>\n",
              "      <td>1.000000</td>\n",
              "      <td>9.999988e+08</td>\n",
              "      <td>3319.000000</td>\n",
              "    </tr>\n",
              "  </tbody>\n",
              "</table>\n",
              "</div>"
            ],
            "text/plain": [
              "            salao_id         status         valor  movimentacoes\n",
              "count  231299.000000  231299.000000  2.312980e+05  231299.000000\n",
              "mean    52620.707439       0.638762  2.339182e+03      24.886558\n",
              "std     20197.973647       0.480360  2.081368e+06      41.562228\n",
              "min       100.000000       0.000000 -8.211342e+05       1.000000\n",
              "25%     36123.000000       0.000000 -2.338100e+03       2.000000\n",
              "50%     58884.000000       1.000000 -5.088900e+02       9.000000\n",
              "75%     66506.000000       1.000000 -7.200000e+01      30.000000\n",
              "max     87912.000000       1.000000  9.999988e+08    3319.000000"
            ]
          },
          "execution_count": 156,
          "metadata": {},
          "output_type": "execute_result"
        }
      ],
      "source": [
        "df_caixa.describe()"
      ]
    },
    {
      "cell_type": "code",
      "execution_count": null,
      "metadata": {
        "colab": {
          "base_uri": "https://localhost:8080/"
        },
        "id": "2GM5GwQviU26",
        "outputId": "f0583101-5b25-47e8-dcae-f760354d7d8d"
      },
      "outputs": [
        {
          "data": {
            "text/plain": [
              "0"
            ]
          },
          "execution_count": 157,
          "metadata": {},
          "output_type": "execute_result"
        }
      ],
      "source": [
        "df_caixa.duplicated().sum()\n",
        "#Nenhum dado duplicado"
      ]
    },
    {
      "cell_type": "code",
      "execution_count": null,
      "metadata": {
        "colab": {
          "base_uri": "https://localhost:8080/"
        },
        "id": "ZeXUstOge7RV",
        "outputId": "4e42fce9-18f0-43b8-e647-c8ac1351e763"
      },
      "outputs": [
        {
          "data": {
            "text/plain": [
              "array([1, 0])"
            ]
          },
          "execution_count": 158,
          "metadata": {},
          "output_type": "execute_result"
        }
      ],
      "source": [
        "df_caixa.status.unique()\n",
        "\n",
        "# Entende-se que status só pode representar 2 valores, sendo 0 (Aberto) ou 1 (Fechado)"
      ]
    },
    {
      "cell_type": "markdown",
      "metadata": {
        "id": "PdmceyqsNB_o"
      },
      "source": [
        "## df_saloes\n"
      ]
    },
    {
      "cell_type": "code",
      "execution_count": null,
      "metadata": {
        "colab": {
          "base_uri": "https://localhost:8080/",
          "height": 206
        },
        "id": "lb4BCC3PGUPU",
        "outputId": "13c7b8c2-7fdd-433b-a3fb-9ce4a08e9773"
      },
      "outputs": [
        {
          "data": {
            "text/html": [
              "<div>\n",
              "<style scoped>\n",
              "    .dataframe tbody tr th:only-of-type {\n",
              "        vertical-align: middle;\n",
              "    }\n",
              "\n",
              "    .dataframe tbody tr th {\n",
              "        vertical-align: top;\n",
              "    }\n",
              "\n",
              "    .dataframe thead th {\n",
              "        text-align: right;\n",
              "    }\n",
              "</style>\n",
              "<table border=\"1\" class=\"dataframe\">\n",
              "  <thead>\n",
              "    <tr style=\"text-align: right;\">\n",
              "      <th></th>\n",
              "      <th>id</th>\n",
              "      <th>datacad</th>\n",
              "      <th>pagamento_online</th>\n",
              "      <th>revenda_id</th>\n",
              "      <th>nfc_e</th>\n",
              "      <th>nfs_e</th>\n",
              "      <th>avecpay_id</th>\n",
              "      <th>limite_profissionais</th>\n",
              "      <th>data_expiracao</th>\n",
              "      <th>cidade</th>\n",
              "    </tr>\n",
              "  </thead>\n",
              "  <tbody>\n",
              "    <tr>\n",
              "      <th>0</th>\n",
              "      <td>31092</td>\n",
              "      <td>2018-06-27 20:41:25.000000</td>\n",
              "      <td>0</td>\n",
              "      <td>0.0</td>\n",
              "      <td>0</td>\n",
              "      <td>0</td>\n",
              "      <td>0</td>\n",
              "      <td>10</td>\n",
              "      <td>2023-08-21</td>\n",
              "      <td>Guarulhos</td>\n",
              "    </tr>\n",
              "    <tr>\n",
              "      <th>1</th>\n",
              "      <td>31140</td>\n",
              "      <td>2018-06-28 15:15:31.000000</td>\n",
              "      <td>0</td>\n",
              "      <td>57.0</td>\n",
              "      <td>0</td>\n",
              "      <td>0</td>\n",
              "      <td>0</td>\n",
              "      <td>5</td>\n",
              "      <td>2018-07-03</td>\n",
              "      <td>Macaé</td>\n",
              "    </tr>\n",
              "    <tr>\n",
              "      <th>2</th>\n",
              "      <td>31202</td>\n",
              "      <td>2018-06-29 16:16:33.000000</td>\n",
              "      <td>0</td>\n",
              "      <td>0.0</td>\n",
              "      <td>0</td>\n",
              "      <td>0</td>\n",
              "      <td>0</td>\n",
              "      <td>10</td>\n",
              "      <td>2023-08-03</td>\n",
              "      <td>João Pessoa</td>\n",
              "    </tr>\n",
              "    <tr>\n",
              "      <th>3</th>\n",
              "      <td>31365</td>\n",
              "      <td>2018-07-03 15:59:38.000000</td>\n",
              "      <td>0</td>\n",
              "      <td>0.0</td>\n",
              "      <td>0</td>\n",
              "      <td>0</td>\n",
              "      <td>0</td>\n",
              "      <td>20</td>\n",
              "      <td>2020-09-24</td>\n",
              "      <td>Rio de Janeiro</td>\n",
              "    </tr>\n",
              "    <tr>\n",
              "      <th>4</th>\n",
              "      <td>31390</td>\n",
              "      <td>2018-07-03 23:21:42.000000</td>\n",
              "      <td>0</td>\n",
              "      <td>NaN</td>\n",
              "      <td>0</td>\n",
              "      <td>0</td>\n",
              "      <td>0</td>\n",
              "      <td>5</td>\n",
              "      <td>2023-01-12</td>\n",
              "      <td>Taubaté</td>\n",
              "    </tr>\n",
              "  </tbody>\n",
              "</table>\n",
              "</div>"
            ],
            "text/plain": [
              "      id                     datacad  pagamento_online  revenda_id  nfc_e  \\\n",
              "0  31092  2018-06-27 20:41:25.000000                 0         0.0      0   \n",
              "1  31140  2018-06-28 15:15:31.000000                 0        57.0      0   \n",
              "2  31202  2018-06-29 16:16:33.000000                 0         0.0      0   \n",
              "3  31365  2018-07-03 15:59:38.000000                 0         0.0      0   \n",
              "4  31390  2018-07-03 23:21:42.000000                 0         NaN      0   \n",
              "\n",
              "   nfs_e  avecpay_id  limite_profissionais data_expiracao          cidade  \n",
              "0      0           0                    10     2023-08-21       Guarulhos  \n",
              "1      0           0                     5     2018-07-03           Macaé  \n",
              "2      0           0                    10     2023-08-03     João Pessoa  \n",
              "3      0           0                    20     2020-09-24  Rio de Janeiro  \n",
              "4      0           0                     5     2023-01-12         Taubaté  "
            ]
          },
          "execution_count": 159,
          "metadata": {},
          "output_type": "execute_result"
        }
      ],
      "source": [
        "df_saloes = pd.read_csv('Data/dnc_saloes.csv')\n",
        "df_saloes.head()\n",
        "#Datacad é a data de cadastro do salão e data_expiracao é a data que expira o cadastro"
      ]
    },
    {
      "cell_type": "code",
      "execution_count": null,
      "metadata": {
        "colab": {
          "base_uri": "https://localhost:8080/"
        },
        "id": "VdZ-EvtwiHxd",
        "outputId": "41c21e71-efb8-45c7-9a4c-e1de2a447448"
      },
      "outputs": [
        {
          "name": "stdout",
          "output_type": "stream",
          "text": [
            "<class 'pandas.core.frame.DataFrame'>\n",
            "RangeIndex: 30500 entries, 0 to 30499\n",
            "Data columns (total 10 columns):\n",
            " #   Column                Non-Null Count  Dtype  \n",
            "---  ------                --------------  -----  \n",
            " 0   id                    30500 non-null  int64  \n",
            " 1   datacad               30500 non-null  object \n",
            " 2   pagamento_online      30500 non-null  int64  \n",
            " 3   revenda_id            29548 non-null  float64\n",
            " 4   nfc_e                 30500 non-null  int64  \n",
            " 5   nfs_e                 30500 non-null  int64  \n",
            " 6   avecpay_id            30500 non-null  int64  \n",
            " 7   limite_profissionais  30500 non-null  int64  \n",
            " 8   data_expiracao        30487 non-null  object \n",
            " 9   cidade                27259 non-null  object \n",
            "dtypes: float64(1), int64(6), object(3)\n",
            "memory usage: 2.3+ MB\n"
          ]
        }
      ],
      "source": [
        "df_saloes.info()\n",
        "# verifica-se falta de dados nas colunas data_expiracao, cidade e revenda_id"
      ]
    },
    {
      "cell_type": "code",
      "execution_count": null,
      "metadata": {
        "colab": {
          "base_uri": "https://localhost:8080/",
          "height": 301
        },
        "id": "KvhDWMjXiJJe",
        "outputId": "ca009546-f5fb-444b-f09a-dd211874a2c1"
      },
      "outputs": [
        {
          "data": {
            "text/html": [
              "<div>\n",
              "<style scoped>\n",
              "    .dataframe tbody tr th:only-of-type {\n",
              "        vertical-align: middle;\n",
              "    }\n",
              "\n",
              "    .dataframe tbody tr th {\n",
              "        vertical-align: top;\n",
              "    }\n",
              "\n",
              "    .dataframe thead th {\n",
              "        text-align: right;\n",
              "    }\n",
              "</style>\n",
              "<table border=\"1\" class=\"dataframe\">\n",
              "  <thead>\n",
              "    <tr style=\"text-align: right;\">\n",
              "      <th></th>\n",
              "      <th>id</th>\n",
              "      <th>pagamento_online</th>\n",
              "      <th>revenda_id</th>\n",
              "      <th>nfc_e</th>\n",
              "      <th>nfs_e</th>\n",
              "      <th>avecpay_id</th>\n",
              "      <th>limite_profissionais</th>\n",
              "    </tr>\n",
              "  </thead>\n",
              "  <tbody>\n",
              "    <tr>\n",
              "      <th>count</th>\n",
              "      <td>30500.000000</td>\n",
              "      <td>30500.000000</td>\n",
              "      <td>29548.000000</td>\n",
              "      <td>30500.000000</td>\n",
              "      <td>30500.000000</td>\n",
              "      <td>30500.000000</td>\n",
              "      <td>30500.000000</td>\n",
              "    </tr>\n",
              "    <tr>\n",
              "      <th>mean</th>\n",
              "      <td>64567.806590</td>\n",
              "      <td>0.080918</td>\n",
              "      <td>16.081596</td>\n",
              "      <td>0.036918</td>\n",
              "      <td>0.065246</td>\n",
              "      <td>10826.885180</td>\n",
              "      <td>221.715836</td>\n",
              "    </tr>\n",
              "    <tr>\n",
              "      <th>std</th>\n",
              "      <td>19570.198466</td>\n",
              "      <td>0.272714</td>\n",
              "      <td>54.934635</td>\n",
              "      <td>0.188564</td>\n",
              "      <td>0.246963</td>\n",
              "      <td>14808.096943</td>\n",
              "      <td>1410.283948</td>\n",
              "    </tr>\n",
              "    <tr>\n",
              "      <th>min</th>\n",
              "      <td>23.000000</td>\n",
              "      <td>0.000000</td>\n",
              "      <td>0.000000</td>\n",
              "      <td>0.000000</td>\n",
              "      <td>0.000000</td>\n",
              "      <td>0.000000</td>\n",
              "      <td>0.000000</td>\n",
              "    </tr>\n",
              "    <tr>\n",
              "      <th>25%</th>\n",
              "      <td>58108.750000</td>\n",
              "      <td>0.000000</td>\n",
              "      <td>0.000000</td>\n",
              "      <td>0.000000</td>\n",
              "      <td>0.000000</td>\n",
              "      <td>0.000000</td>\n",
              "      <td>5.000000</td>\n",
              "    </tr>\n",
              "    <tr>\n",
              "      <th>50%</th>\n",
              "      <td>69652.500000</td>\n",
              "      <td>0.000000</td>\n",
              "      <td>0.000000</td>\n",
              "      <td>0.000000</td>\n",
              "      <td>0.000000</td>\n",
              "      <td>0.000000</td>\n",
              "      <td>5.000000</td>\n",
              "    </tr>\n",
              "    <tr>\n",
              "      <th>75%</th>\n",
              "      <td>78643.250000</td>\n",
              "      <td>0.000000</td>\n",
              "      <td>0.000000</td>\n",
              "      <td>0.000000</td>\n",
              "      <td>0.000000</td>\n",
              "      <td>24081.250000</td>\n",
              "      <td>10.000000</td>\n",
              "    </tr>\n",
              "    <tr>\n",
              "      <th>max</th>\n",
              "      <td>87725.000000</td>\n",
              "      <td>1.000000</td>\n",
              "      <td>288.000000</td>\n",
              "      <td>1.000000</td>\n",
              "      <td>1.000000</td>\n",
              "      <td>42584.000000</td>\n",
              "      <td>17992.000000</td>\n",
              "    </tr>\n",
              "  </tbody>\n",
              "</table>\n",
              "</div>"
            ],
            "text/plain": [
              "                 id  pagamento_online    revenda_id         nfc_e  \\\n",
              "count  30500.000000      30500.000000  29548.000000  30500.000000   \n",
              "mean   64567.806590          0.080918     16.081596      0.036918   \n",
              "std    19570.198466          0.272714     54.934635      0.188564   \n",
              "min       23.000000          0.000000      0.000000      0.000000   \n",
              "25%    58108.750000          0.000000      0.000000      0.000000   \n",
              "50%    69652.500000          0.000000      0.000000      0.000000   \n",
              "75%    78643.250000          0.000000      0.000000      0.000000   \n",
              "max    87725.000000          1.000000    288.000000      1.000000   \n",
              "\n",
              "              nfs_e    avecpay_id  limite_profissionais  \n",
              "count  30500.000000  30500.000000          30500.000000  \n",
              "mean       0.065246  10826.885180            221.715836  \n",
              "std        0.246963  14808.096943           1410.283948  \n",
              "min        0.000000      0.000000              0.000000  \n",
              "25%        0.000000      0.000000              5.000000  \n",
              "50%        0.000000      0.000000              5.000000  \n",
              "75%        0.000000  24081.250000             10.000000  \n",
              "max        1.000000  42584.000000          17992.000000  "
            ]
          },
          "execution_count": 161,
          "metadata": {},
          "output_type": "execute_result"
        }
      ],
      "source": [
        "df_saloes.describe()"
      ]
    },
    {
      "cell_type": "code",
      "execution_count": null,
      "metadata": {
        "colab": {
          "base_uri": "https://localhost:8080/"
        },
        "id": "2MZtBFBFjPj9",
        "outputId": "22bdb7fb-e0c9-40be-d5e7-f72da2e40a69"
      },
      "outputs": [
        {
          "data": {
            "text/plain": [
              "0"
            ]
          },
          "execution_count": 162,
          "metadata": {},
          "output_type": "execute_result"
        }
      ],
      "source": [
        "df_saloes.duplicated().sum()\n",
        "\n",
        "# Nenhum dado duplicado"
      ]
    },
    {
      "cell_type": "code",
      "execution_count": null,
      "metadata": {
        "colab": {
          "base_uri": "https://localhost:8080/"
        },
        "id": "yPK4eVAYISXU",
        "outputId": "6287b815-8c13-4549-b631-9652f6f866ef"
      },
      "outputs": [
        {
          "data": {
            "text/plain": [
              "array([0, 1])"
            ]
          },
          "execution_count": 163,
          "metadata": {},
          "output_type": "execute_result"
        }
      ],
      "source": [
        "df_saloes.pagamento_online.unique()\n",
        "# A coluna pagamento_online representa se o salão aceita ou não pagamento online"
      ]
    },
    {
      "cell_type": "code",
      "execution_count": null,
      "metadata": {
        "colab": {
          "base_uri": "https://localhost:8080/"
        },
        "id": "ic2CfQIZgja5",
        "outputId": "12e2d207-e5dc-455b-d43a-e585df0a5f3a"
      },
      "outputs": [
        {
          "data": {
            "text/plain": [
              "array([  0.,  57.,  nan, 281.,   3.,  32.,  21.,  40.,  33.,   6.,   7.,\n",
              "        76.,   2.,  59.,  36.,  14.,  55.,   4.,  77.,  78.,  73.,  15.,\n",
              "        45.,  17.,   9., 260., 261.,  38.,  11.,  34., 287., 277., 273.,\n",
              "       271., 274.,  74.,  71., 286.,  51.,  64.,  65.,  43.,  37., 265.,\n",
              "        46., 262., 269.,  23.,  29., 288.,  62.,  48.,  72.,  81.,  25.,\n",
              "        44.,  47., 266.,  58.])"
            ]
          },
          "execution_count": 164,
          "metadata": {},
          "output_type": "execute_result"
        }
      ],
      "source": [
        "df_saloes.revenda_id.unique()\n",
        "# Essa coluna representa o id de revenda"
      ]
    },
    {
      "cell_type": "code",
      "execution_count": null,
      "metadata": {
        "colab": {
          "base_uri": "https://localhost:8080/"
        },
        "id": "JggUn2ckgy_6",
        "outputId": "724e731c-87e8-46b2-bac5-211020304d59"
      },
      "outputs": [
        {
          "data": {
            "text/plain": [
              "array([0, 1])"
            ]
          },
          "execution_count": 165,
          "metadata": {},
          "output_type": "execute_result"
        }
      ],
      "source": [
        "df_saloes.nfc_e.unique()\n",
        "# essa coluna representa se o salão utiliza emissão de nota fiscal de consumidor eletrônica"
      ]
    },
    {
      "cell_type": "code",
      "execution_count": null,
      "metadata": {
        "colab": {
          "base_uri": "https://localhost:8080/"
        },
        "id": "7LsXvi46hB4A",
        "outputId": "f7fc7f32-2723-4c02-e966-2a483ecfcfac"
      },
      "outputs": [
        {
          "data": {
            "text/plain": [
              "array([0, 1])"
            ]
          },
          "execution_count": 166,
          "metadata": {},
          "output_type": "execute_result"
        }
      ],
      "source": [
        "df_saloes.nfs_e.unique()\n",
        "# essa coluna representa se o salão utiliza emissão de nota fiscal de serviços eletrônica"
      ]
    },
    {
      "cell_type": "code",
      "execution_count": null,
      "metadata": {
        "colab": {
          "base_uri": "https://localhost:8080/"
        },
        "id": "JHQP_eN4hZJD",
        "outputId": "49aee80d-3e7a-4074-ef4a-ae221fa0e04a"
      },
      "outputs": [
        {
          "data": {
            "text/plain": [
              "array([    0, 39867,  3152, ...,  9243,  9396, 10750])"
            ]
          },
          "execution_count": 167,
          "metadata": {},
          "output_type": "execute_result"
        }
      ],
      "source": [
        "df_saloes.avecpay_id.unique()\n",
        "# Representa o id dos salões que usam avecpay"
      ]
    },
    {
      "cell_type": "markdown",
      "metadata": {
        "id": "4U4l-McdNHH2"
      },
      "source": [
        "## df_comandas\n"
      ]
    },
    {
      "cell_type": "code",
      "execution_count": null,
      "metadata": {
        "colab": {
          "base_uri": "https://localhost:8080/",
          "height": 206
        },
        "id": "8LLXO-DAGrN7",
        "outputId": "76479956-9a42-4566-fbb1-a1115e0f0e98"
      },
      "outputs": [
        {
          "data": {
            "text/html": [
              "<div>\n",
              "<style scoped>\n",
              "    .dataframe tbody tr th:only-of-type {\n",
              "        vertical-align: middle;\n",
              "    }\n",
              "\n",
              "    .dataframe tbody tr th {\n",
              "        vertical-align: top;\n",
              "    }\n",
              "\n",
              "    .dataframe thead th {\n",
              "        text-align: right;\n",
              "    }\n",
              "</style>\n",
              "<table border=\"1\" class=\"dataframe\">\n",
              "  <thead>\n",
              "    <tr style=\"text-align: right;\">\n",
              "      <th></th>\n",
              "      <th>salao_id</th>\n",
              "      <th>mes_data</th>\n",
              "      <th>status</th>\n",
              "      <th>comandas</th>\n",
              "      <th>valor</th>\n",
              "    </tr>\n",
              "  </thead>\n",
              "  <tbody>\n",
              "    <tr>\n",
              "      <th>0</th>\n",
              "      <td>57604</td>\n",
              "      <td>2020-10-01</td>\n",
              "      <td>0</td>\n",
              "      <td>4</td>\n",
              "      <td>158.0</td>\n",
              "    </tr>\n",
              "    <tr>\n",
              "      <th>1</th>\n",
              "      <td>21634</td>\n",
              "      <td>2019-06-01</td>\n",
              "      <td>0</td>\n",
              "      <td>2</td>\n",
              "      <td>45.0</td>\n",
              "    </tr>\n",
              "    <tr>\n",
              "      <th>2</th>\n",
              "      <td>55313</td>\n",
              "      <td>2022-07-01</td>\n",
              "      <td>0</td>\n",
              "      <td>4</td>\n",
              "      <td>840.0</td>\n",
              "    </tr>\n",
              "    <tr>\n",
              "      <th>3</th>\n",
              "      <td>69356</td>\n",
              "      <td>2021-01-01</td>\n",
              "      <td>2</td>\n",
              "      <td>16</td>\n",
              "      <td>2300.0</td>\n",
              "    </tr>\n",
              "    <tr>\n",
              "      <th>4</th>\n",
              "      <td>85368</td>\n",
              "      <td>2022-08-01</td>\n",
              "      <td>1</td>\n",
              "      <td>1</td>\n",
              "      <td>150.0</td>\n",
              "    </tr>\n",
              "  </tbody>\n",
              "</table>\n",
              "</div>"
            ],
            "text/plain": [
              "   salao_id    mes_data  status  comandas   valor\n",
              "0     57604  2020-10-01       0         4   158.0\n",
              "1     21634  2019-06-01       0         2    45.0\n",
              "2     55313  2022-07-01       0         4   840.0\n",
              "3     69356  2021-01-01       2        16  2300.0\n",
              "4     85368  2022-08-01       1         1   150.0"
            ]
          },
          "execution_count": 168,
          "metadata": {},
          "output_type": "execute_result"
        }
      ],
      "source": [
        "df_comandas = pd.read_csv('Data/dnc_comandas.csv')\n",
        "df_comandas.head()\n",
        "\n",
        "#mes_data é a data daquela comanda, importando apenas o mês e o ano. Valor representa o valor da comanda e comandas representa o número da comanda."
      ]
    },
    {
      "cell_type": "code",
      "execution_count": null,
      "metadata": {
        "colab": {
          "base_uri": "https://localhost:8080/"
        },
        "id": "PwbLcmerh1WT",
        "outputId": "08113c78-c4dd-4ac1-b3c7-59bf837b1401"
      },
      "outputs": [
        {
          "data": {
            "text/plain": [
              "array([ 0,  2,  1,  3, -1])"
            ]
          },
          "execution_count": 169,
          "metadata": {},
          "output_type": "execute_result"
        }
      ],
      "source": [
        "df_comandas.status.unique()\n",
        "\n",
        "# Status são números que representam o status da comanda, não será utilizado."
      ]
    },
    {
      "cell_type": "code",
      "execution_count": null,
      "metadata": {
        "colab": {
          "base_uri": "https://localhost:8080/"
        },
        "id": "2pLZ6gxukHVX",
        "outputId": "e910c143-db47-405f-92a8-d46993a601fe"
      },
      "outputs": [
        {
          "name": "stdout",
          "output_type": "stream",
          "text": [
            "<class 'pandas.core.frame.DataFrame'>\n",
            "RangeIndex: 599757 entries, 0 to 599756\n",
            "Data columns (total 5 columns):\n",
            " #   Column    Non-Null Count   Dtype \n",
            "---  ------    --------------   ----- \n",
            " 0   salao_id  599757 non-null  int64 \n",
            " 1   mes_data  599757 non-null  object\n",
            " 2   status    599757 non-null  int64 \n",
            " 3   comandas  599757 non-null  int64 \n",
            " 4   valor     599757 non-null  object\n",
            "dtypes: int64(3), object(2)\n",
            "memory usage: 22.9+ MB\n"
          ]
        }
      ],
      "source": [
        "df_comandas.info()\n",
        "# Nenhum dado faltante"
      ]
    },
    {
      "cell_type": "code",
      "execution_count": null,
      "metadata": {
        "colab": {
          "base_uri": "https://localhost:8080/",
          "height": 301
        },
        "id": "2XgwO_HqkLaA",
        "outputId": "08621e0f-32bd-49dc-b5fb-5bd4d191917d"
      },
      "outputs": [
        {
          "data": {
            "text/html": [
              "<div>\n",
              "<style scoped>\n",
              "    .dataframe tbody tr th:only-of-type {\n",
              "        vertical-align: middle;\n",
              "    }\n",
              "\n",
              "    .dataframe tbody tr th {\n",
              "        vertical-align: top;\n",
              "    }\n",
              "\n",
              "    .dataframe thead th {\n",
              "        text-align: right;\n",
              "    }\n",
              "</style>\n",
              "<table border=\"1\" class=\"dataframe\">\n",
              "  <thead>\n",
              "    <tr style=\"text-align: right;\">\n",
              "      <th></th>\n",
              "      <th>salao_id</th>\n",
              "      <th>status</th>\n",
              "      <th>comandas</th>\n",
              "    </tr>\n",
              "  </thead>\n",
              "  <tbody>\n",
              "    <tr>\n",
              "      <th>count</th>\n",
              "      <td>599757.000000</td>\n",
              "      <td>599757.000000</td>\n",
              "      <td>599757.000000</td>\n",
              "    </tr>\n",
              "    <tr>\n",
              "      <th>mean</th>\n",
              "      <td>56879.529493</td>\n",
              "      <td>1.153731</td>\n",
              "      <td>182.244317</td>\n",
              "    </tr>\n",
              "    <tr>\n",
              "      <th>std</th>\n",
              "      <td>20482.311961</td>\n",
              "      <td>0.982677</td>\n",
              "      <td>333.558933</td>\n",
              "    </tr>\n",
              "    <tr>\n",
              "      <th>min</th>\n",
              "      <td>8.000000</td>\n",
              "      <td>-1.000000</td>\n",
              "      <td>1.000000</td>\n",
              "    </tr>\n",
              "    <tr>\n",
              "      <th>25%</th>\n",
              "      <td>47564.000000</td>\n",
              "      <td>0.000000</td>\n",
              "      <td>4.000000</td>\n",
              "    </tr>\n",
              "    <tr>\n",
              "      <th>50%</th>\n",
              "      <td>62254.000000</td>\n",
              "      <td>2.000000</td>\n",
              "      <td>32.000000</td>\n",
              "    </tr>\n",
              "    <tr>\n",
              "      <th>75%</th>\n",
              "      <td>71785.000000</td>\n",
              "      <td>2.000000</td>\n",
              "      <td>233.000000</td>\n",
              "    </tr>\n",
              "    <tr>\n",
              "      <th>max</th>\n",
              "      <td>87926.000000</td>\n",
              "      <td>3.000000</td>\n",
              "      <td>8989.000000</td>\n",
              "    </tr>\n",
              "  </tbody>\n",
              "</table>\n",
              "</div>"
            ],
            "text/plain": [
              "            salao_id         status       comandas\n",
              "count  599757.000000  599757.000000  599757.000000\n",
              "mean    56879.529493       1.153731     182.244317\n",
              "std     20482.311961       0.982677     333.558933\n",
              "min         8.000000      -1.000000       1.000000\n",
              "25%     47564.000000       0.000000       4.000000\n",
              "50%     62254.000000       2.000000      32.000000\n",
              "75%     71785.000000       2.000000     233.000000\n",
              "max     87926.000000       3.000000    8989.000000"
            ]
          },
          "execution_count": 171,
          "metadata": {},
          "output_type": "execute_result"
        }
      ],
      "source": [
        "df_comandas.describe()"
      ]
    },
    {
      "cell_type": "code",
      "execution_count": null,
      "metadata": {
        "colab": {
          "base_uri": "https://localhost:8080/"
        },
        "id": "J6dRnSnLkNCp",
        "outputId": "58825ffe-819b-4402-d134-bbf20d3ee057"
      },
      "outputs": [
        {
          "data": {
            "text/plain": [
              "0"
            ]
          },
          "execution_count": 172,
          "metadata": {},
          "output_type": "execute_result"
        }
      ],
      "source": [
        "df_comandas.duplicated().sum()\n",
        "# Nenhum dado duplicado"
      ]
    },
    {
      "cell_type": "markdown",
      "metadata": {
        "id": "xpnb7KXHNJOL"
      },
      "source": [
        "## df_hist_churn"
      ]
    },
    {
      "cell_type": "code",
      "execution_count": null,
      "metadata": {
        "colab": {
          "base_uri": "https://localhost:8080/",
          "height": 424
        },
        "id": "QOEpil7ZHG68",
        "outputId": "418a9ffe-bb16-4d34-9d83-67595fda06e2"
      },
      "outputs": [
        {
          "data": {
            "text/html": [
              "<div>\n",
              "<style scoped>\n",
              "    .dataframe tbody tr th:only-of-type {\n",
              "        vertical-align: middle;\n",
              "    }\n",
              "\n",
              "    .dataframe tbody tr th {\n",
              "        vertical-align: top;\n",
              "    }\n",
              "\n",
              "    .dataframe thead th {\n",
              "        text-align: right;\n",
              "    }\n",
              "</style>\n",
              "<table border=\"1\" class=\"dataframe\">\n",
              "  <thead>\n",
              "    <tr style=\"text-align: right;\">\n",
              "      <th></th>\n",
              "      <th>id</th>\n",
              "      <th>datacad</th>\n",
              "      <th>tier</th>\n",
              "      <th>data_verificacao</th>\n",
              "      <th>status_churn</th>\n",
              "    </tr>\n",
              "  </thead>\n",
              "  <tbody>\n",
              "    <tr>\n",
              "      <th>0</th>\n",
              "      <td>80574</td>\n",
              "      <td>2021-12-15</td>\n",
              "      <td>2.SMALL</td>\n",
              "      <td>2022-04-30</td>\n",
              "      <td>ATIVO</td>\n",
              "    </tr>\n",
              "    <tr>\n",
              "      <th>1</th>\n",
              "      <td>80575</td>\n",
              "      <td>2021-12-15</td>\n",
              "      <td>1.MICRO</td>\n",
              "      <td>2022-04-30</td>\n",
              "      <td>CHURN</td>\n",
              "    </tr>\n",
              "    <tr>\n",
              "      <th>2</th>\n",
              "      <td>80576</td>\n",
              "      <td>2021-12-16</td>\n",
              "      <td>2.SMALL</td>\n",
              "      <td>2022-04-30</td>\n",
              "      <td>CHURN</td>\n",
              "    </tr>\n",
              "    <tr>\n",
              "      <th>3</th>\n",
              "      <td>80577</td>\n",
              "      <td>2021-12-16</td>\n",
              "      <td>3.MEDIUM</td>\n",
              "      <td>2022-04-30</td>\n",
              "      <td>INATIVO</td>\n",
              "    </tr>\n",
              "    <tr>\n",
              "      <th>4</th>\n",
              "      <td>80578</td>\n",
              "      <td>2021-12-16</td>\n",
              "      <td>1.MICRO</td>\n",
              "      <td>2022-04-30</td>\n",
              "      <td>CHURN</td>\n",
              "    </tr>\n",
              "    <tr>\n",
              "      <th>...</th>\n",
              "      <td>...</td>\n",
              "      <td>...</td>\n",
              "      <td>...</td>\n",
              "      <td>...</td>\n",
              "      <td>...</td>\n",
              "    </tr>\n",
              "    <tr>\n",
              "      <th>537979</th>\n",
              "      <td>69651</td>\n",
              "      <td>2020-11-24</td>\n",
              "      <td>2.SMALL</td>\n",
              "      <td>2021-12-31</td>\n",
              "      <td>ATIVO</td>\n",
              "    </tr>\n",
              "    <tr>\n",
              "      <th>537980</th>\n",
              "      <td>69652</td>\n",
              "      <td>2020-11-24</td>\n",
              "      <td>5.ENTERPRISE</td>\n",
              "      <td>2021-12-31</td>\n",
              "      <td>ATIVO</td>\n",
              "    </tr>\n",
              "    <tr>\n",
              "      <th>537981</th>\n",
              "      <td>69653</td>\n",
              "      <td>2020-11-24</td>\n",
              "      <td>3.MEDIUM</td>\n",
              "      <td>2021-12-31</td>\n",
              "      <td>ATIVO</td>\n",
              "    </tr>\n",
              "    <tr>\n",
              "      <th>537982</th>\n",
              "      <td>69654</td>\n",
              "      <td>2020-11-24</td>\n",
              "      <td>3.MEDIUM</td>\n",
              "      <td>2021-12-31</td>\n",
              "      <td>ATIVO</td>\n",
              "    </tr>\n",
              "    <tr>\n",
              "      <th>537983</th>\n",
              "      <td>69655</td>\n",
              "      <td>2020-11-24</td>\n",
              "      <td>3.MEDIUM</td>\n",
              "      <td>2021-12-31</td>\n",
              "      <td>ATIVO</td>\n",
              "    </tr>\n",
              "  </tbody>\n",
              "</table>\n",
              "<p>537984 rows × 5 columns</p>\n",
              "</div>"
            ],
            "text/plain": [
              "           id     datacad          tier data_verificacao status_churn\n",
              "0       80574  2021-12-15       2.SMALL       2022-04-30        ATIVO\n",
              "1       80575  2021-12-15       1.MICRO       2022-04-30        CHURN\n",
              "2       80576  2021-12-16       2.SMALL       2022-04-30        CHURN\n",
              "3       80577  2021-12-16      3.MEDIUM       2022-04-30      INATIVO\n",
              "4       80578  2021-12-16       1.MICRO       2022-04-30        CHURN\n",
              "...       ...         ...           ...              ...          ...\n",
              "537979  69651  2020-11-24       2.SMALL       2021-12-31        ATIVO\n",
              "537980  69652  2020-11-24  5.ENTERPRISE       2021-12-31        ATIVO\n",
              "537981  69653  2020-11-24      3.MEDIUM       2021-12-31        ATIVO\n",
              "537982  69654  2020-11-24      3.MEDIUM       2021-12-31        ATIVO\n",
              "537983  69655  2020-11-24      3.MEDIUM       2021-12-31        ATIVO\n",
              "\n",
              "[537984 rows x 5 columns]"
            ]
          },
          "execution_count": 173,
          "metadata": {},
          "output_type": "execute_result"
        }
      ],
      "source": [
        "df_hist_churn = pd.read_csv('Data/dnc_hist_churn.csv')\n",
        "df_hist_churn\n"
      ]
    },
    {
      "cell_type": "code",
      "execution_count": null,
      "metadata": {
        "colab": {
          "base_uri": "https://localhost:8080/",
          "height": 52
        },
        "id": "VmRjdpFglZ8v",
        "outputId": "16e5bc78-3d90-45b4-9ecc-bffab38a91ac"
      },
      "outputs": [
        {
          "data": {
            "text/plain": [
              "' data cad é a data de cadastro do salão, tier é a classificação desse salão de \\n  acordo com a quantidade de funcionários e data_verificacao é a data que foi feita\\n  essa verificação '"
            ]
          },
          "execution_count": 174,
          "metadata": {},
          "output_type": "execute_result"
        }
      ],
      "source": [
        "\"\"\" data cad é a data de cadastro do salão, tier é a classificação desse salão de\n",
        "  acordo com a quantidade de funcionários e data_verificacao é a data que foi feita\n",
        "  essa verificação \"\"\""
      ]
    },
    {
      "cell_type": "code",
      "execution_count": null,
      "metadata": {
        "colab": {
          "base_uri": "https://localhost:8080/"
        },
        "id": "Nmne-8qukEOo",
        "outputId": "e7ced977-e573-4c22-b243-1623008a8d8c"
      },
      "outputs": [
        {
          "data": {
            "text/plain": [
              "array(['ATIVO', 'CHURN', 'INATIVO', 'INADIMPLENTE'], dtype=object)"
            ]
          },
          "execution_count": 175,
          "metadata": {},
          "output_type": "execute_result"
        }
      ],
      "source": [
        "df_hist_churn.status_churn.unique()\n",
        "# Representa o status do cliente, podendo ser ativo, churn, inativo ou inadimplente"
      ]
    },
    {
      "cell_type": "code",
      "execution_count": null,
      "metadata": {
        "colab": {
          "base_uri": "https://localhost:8080/"
        },
        "id": "GYOpcs7vkbBD",
        "outputId": "cfb25a9a-2a57-4888-a50a-c8eeec7ad03c"
      },
      "outputs": [
        {
          "name": "stdout",
          "output_type": "stream",
          "text": [
            "<class 'pandas.core.frame.DataFrame'>\n",
            "RangeIndex: 537984 entries, 0 to 537983\n",
            "Data columns (total 5 columns):\n",
            " #   Column            Non-Null Count   Dtype \n",
            "---  ------            --------------   ----- \n",
            " 0   id                537984 non-null  int64 \n",
            " 1   datacad           537984 non-null  object\n",
            " 2   tier              537984 non-null  object\n",
            " 3   data_verificacao  537984 non-null  object\n",
            " 4   status_churn      537984 non-null  object\n",
            "dtypes: int64(1), object(4)\n",
            "memory usage: 20.5+ MB\n"
          ]
        }
      ],
      "source": [
        "df_hist_churn.info()\n",
        "# Nenhum dado faltante"
      ]
    },
    {
      "cell_type": "code",
      "execution_count": null,
      "metadata": {
        "colab": {
          "base_uri": "https://localhost:8080/"
        },
        "id": "Zb1PFNZdkhnk",
        "outputId": "efc6f60f-d5bf-42e6-9a21-f980eaf9618e"
      },
      "outputs": [
        {
          "data": {
            "text/plain": [
              "0"
            ]
          },
          "execution_count": 177,
          "metadata": {},
          "output_type": "execute_result"
        }
      ],
      "source": [
        "df_hist_churn.duplicated().sum()\n",
        "# Nenhum dado duplicado"
      ]
    },
    {
      "cell_type": "code",
      "execution_count": null,
      "metadata": {
        "colab": {
          "base_uri": "https://localhost:8080/",
          "height": 301
        },
        "id": "TAYMSebVkk4b",
        "outputId": "c5b397b0-bb2f-461b-cde8-2f6bf606a514"
      },
      "outputs": [
        {
          "data": {
            "text/html": [
              "<div>\n",
              "<style scoped>\n",
              "    .dataframe tbody tr th:only-of-type {\n",
              "        vertical-align: middle;\n",
              "    }\n",
              "\n",
              "    .dataframe tbody tr th {\n",
              "        vertical-align: top;\n",
              "    }\n",
              "\n",
              "    .dataframe thead th {\n",
              "        text-align: right;\n",
              "    }\n",
              "</style>\n",
              "<table border=\"1\" class=\"dataframe\">\n",
              "  <thead>\n",
              "    <tr style=\"text-align: right;\">\n",
              "      <th></th>\n",
              "      <th>id</th>\n",
              "    </tr>\n",
              "  </thead>\n",
              "  <tbody>\n",
              "    <tr>\n",
              "      <th>count</th>\n",
              "      <td>537984.000000</td>\n",
              "    </tr>\n",
              "    <tr>\n",
              "      <th>mean</th>\n",
              "      <td>57221.600799</td>\n",
              "    </tr>\n",
              "    <tr>\n",
              "      <th>std</th>\n",
              "      <td>20066.026361</td>\n",
              "    </tr>\n",
              "    <tr>\n",
              "      <th>min</th>\n",
              "      <td>23.000000</td>\n",
              "    </tr>\n",
              "    <tr>\n",
              "      <th>25%</th>\n",
              "      <td>48843.000000</td>\n",
              "    </tr>\n",
              "    <tr>\n",
              "      <th>50%</th>\n",
              "      <td>62736.000000</td>\n",
              "    </tr>\n",
              "    <tr>\n",
              "      <th>75%</th>\n",
              "      <td>71636.000000</td>\n",
              "    </tr>\n",
              "    <tr>\n",
              "      <th>max</th>\n",
              "      <td>87725.000000</td>\n",
              "    </tr>\n",
              "  </tbody>\n",
              "</table>\n",
              "</div>"
            ],
            "text/plain": [
              "                  id\n",
              "count  537984.000000\n",
              "mean    57221.600799\n",
              "std     20066.026361\n",
              "min        23.000000\n",
              "25%     48843.000000\n",
              "50%     62736.000000\n",
              "75%     71636.000000\n",
              "max     87725.000000"
            ]
          },
          "execution_count": 178,
          "metadata": {},
          "output_type": "execute_result"
        }
      ],
      "source": [
        "df_hist_churn.describe()"
      ]
    },
    {
      "cell_type": "markdown",
      "metadata": {
        "id": "3jm4raRLKK2i"
      },
      "source": [
        "# Data Preparation\n"
      ]
    },
    {
      "cell_type": "code",
      "execution_count": null,
      "metadata": {
        "id": "TpvDlJaGKjZg"
      },
      "outputs": [],
      "source": [
        "def not_cient_para_num(df_com_coluna):\n",
        "  '''Essa função foi feita para transformar dados que foram escritos em notação científica para números reais\n",
        "      df_com_coluna: informe o dataframe especificando a coluna que precisará da alteração\n",
        "      Obs.: Apenas funciona com o tipo de dado object\n",
        "  '''\n",
        "  for i in range(0, len(df_com_coluna)):\n",
        "    if len(df_com_coluna[i]) > 4:\n",
        "      if df_com_coluna[i][4] == 'E':\n",
        "        df_com_coluna[i] = float(df_com_coluna.loc[i][0]) * (10 ** float(df_com_coluna.loc[i][6:8]))\n",
        "      else:\n",
        "        continue\n",
        "    else:\n",
        "      continue"
      ]
    },
    {
      "cell_type": "code",
      "execution_count": null,
      "metadata": {
        "colab": {
          "base_uri": "https://localhost:8080/"
        },
        "id": "csBFAUhcfkT2",
        "outputId": "4e58c257-63be-42a8-eef2-2c40ed09504d"
      },
      "outputs": [
        {
          "name": "stderr",
          "output_type": "stream",
          "text": [
            "/tmp/ipykernel_5924/21807263.py:1: FutureWarning: The default value of regex will change from True to False in a future version. In addition, single character regular expressions will *not* be treated as literal strings when regex=True.\n",
            "  df_comandas['valor'] = (df_comandas['valor'].str.replace('.', ''))\n",
            "/tmp/ipykernel_5924/1419751444.py:9: SettingWithCopyWarning: \n",
            "A value is trying to be set on a copy of a slice from a DataFrame\n",
            "\n",
            "See the caveats in the documentation: https://pandas.pydata.org/pandas-docs/stable/user_guide/indexing.html#returning-a-view-versus-a-copy\n",
            "  df_com_coluna[i] = float(df_com_coluna.loc[i][0]) * (10 ** float(df_com_coluna.loc[i][6:8]))\n"
          ]
        }
      ],
      "source": [
        "df_comandas['valor'] = (df_comandas['valor'].str.replace('.', ''))\n",
        "not_cient_para_num(df_comandas.valor)\n",
        "df_comandas.valor = df_comandas.valor.astype('float64')"
      ]
    },
    {
      "cell_type": "code",
      "execution_count": null,
      "metadata": {
        "id": "tDqW21tCgPCk",
        "outputId": "33965847-bb0e-4d64-c1c3-aab3a724aa01"
      },
      "outputs": [
        {
          "name": "stderr",
          "output_type": "stream",
          "text": [
            "/tmp/ipykernel_5924/1494314547.py:1: FutureWarning: The default value of numeric_only in DataFrameGroupBy.sum is deprecated. In a future version, numeric_only will default to False. Either specify numeric_only or select only columns which should be valid for the function.\n",
            "  df_comandas_total = df_comandas.groupby(['salao_id']).sum().drop(columns=['status', 'comandas']).reset_index()\n"
          ]
        }
      ],
      "source": [
        "df_comandas_total = df_comandas.groupby(['salao_id']).sum().drop(columns=['status', 'comandas']).reset_index()\n",
        "#df_comandas_total.head()"
      ]
    },
    {
      "cell_type": "code",
      "execution_count": null,
      "metadata": {
        "id": "mUSIwil_JR49"
      },
      "outputs": [],
      "source": [
        "df_hist_churn['datacad'] = pd.to_datetime(df_hist_churn['datacad'])\n",
        "df_saloes['datacad'] = pd.to_datetime(df_saloes['datacad'])\n",
        "#alteramos o tipo para datetime da coluna datacad do df_hist_churn e do df_saloes para fazer um merge\n",
        "df_saloes['datacad'] = df_saloes['datacad'].dt.date\n",
        "df_saloes['datacad'] = pd.to_datetime(df_saloes['datacad'])\n",
        "#modelamos a coluna datacad do df_saloes para apresentar apenas dia, mês e ano sem perder o tipo datetime"
      ]
    },
    {
      "cell_type": "code",
      "execution_count": null,
      "metadata": {
        "id": "6sIPwGG0Hb0U"
      },
      "outputs": [],
      "source": [
        "df_hist_churn_saloes = df_hist_churn.merge(df_saloes, how='left', on=['id','datacad'])\n",
        "#df_hist_churn_saloes.head()\n",
        "#Realizamos o merge com as colunas id e datacad sendo a nossa chave primária"
      ]
    },
    {
      "cell_type": "code",
      "execution_count": null,
      "metadata": {
        "colab": {
          "base_uri": "https://localhost:8080/"
        },
        "id": "0SfCNh-7J1Z2",
        "outputId": "0f1483ea-d651-4718-9b16-54d33e7f8ea3"
      },
      "outputs": [
        {
          "data": {
            "text/plain": [
              "id                          0\n",
              "datacad                     0\n",
              "tier                        0\n",
              "data_verificacao            0\n",
              "status_churn                0\n",
              "pagamento_online         4066\n",
              "revenda_id              18088\n",
              "nfc_e                    4066\n",
              "nfs_e                    4066\n",
              "avecpay_id               4066\n",
              "limite_profissionais     4066\n",
              "data_expiracao           4157\n",
              "cidade                  36686\n",
              "dtype: int64"
            ]
          },
          "execution_count": 184,
          "metadata": {},
          "output_type": "execute_result"
        }
      ],
      "source": [
        "df_hist_churn_saloes.isna().sum()\n",
        "# Grande presença de dados nulos"
      ]
    },
    {
      "cell_type": "code",
      "execution_count": null,
      "metadata": {
        "id": "qnu9CzphmVxU"
      },
      "outputs": [],
      "source": [
        "df_hist_churn_saloes = df_hist_churn_saloes.dropna()\n",
        "#df_hist_churn_saloes.isna().sum()\n",
        "#Eliminação dos dados nulos"
      ]
    },
    {
      "cell_type": "code",
      "execution_count": null,
      "metadata": {
        "colab": {
          "base_uri": "https://localhost:8080/"
        },
        "id": "Mt2MTSwKhzp2",
        "outputId": "0595b745-68a6-47e7-d11c-2791e7fe6558"
      },
      "outputs": [
        {
          "data": {
            "text/plain": [
              "0"
            ]
          },
          "execution_count": 186,
          "metadata": {},
          "output_type": "execute_result"
        }
      ],
      "source": [
        "df_hist_churn.duplicated().sum()\n",
        "#Nenhum dado duplicado"
      ]
    },
    {
      "cell_type": "code",
      "execution_count": null,
      "metadata": {
        "id": "1XZxc3_rRNxL"
      },
      "outputs": [],
      "source": [
        "df_hist_churn_saloes.rename(columns={'id': 'salao_id'}, inplace=True)\n",
        "#Renomeando a coluna id para futuras manipulações"
      ]
    },
    {
      "cell_type": "code",
      "execution_count": null,
      "metadata": {
        "id": "YPUYoEiDu4uI"
      },
      "outputs": [],
      "source": [
        "df_hist_churn_saloes['data_verificacao'] = pd.to_datetime(df_hist_churn_saloes['data_verificacao'])\n",
        "#Alterando a coluna data_verificacao para datetime"
      ]
    },
    {
      "cell_type": "code",
      "execution_count": null,
      "metadata": {
        "id": "ACC33Hiin5Mn"
      },
      "outputs": [],
      "source": [
        "df_hist_churn_saloes.reset_index(inplace=True, drop=True)"
      ]
    },
    {
      "cell_type": "code",
      "execution_count": null,
      "metadata": {
        "id": "u4OyDDzdq1M3"
      },
      "outputs": [],
      "source": [
        "#df_hist_churn_saloes.head()"
      ]
    },
    {
      "cell_type": "code",
      "execution_count": null,
      "metadata": {
        "id": "gjJY7LucRCXU"
      },
      "outputs": [],
      "source": [
        "df_model = df_hist_churn_saloes.merge(df_comandas_total, how='left', on=['salao_id'])\n",
        "# Fazendo um merge utilizando a chave primária salao_id"
      ]
    },
    {
      "cell_type": "code",
      "execution_count": null,
      "metadata": {
        "colab": {
          "base_uri": "https://localhost:8080/"
        },
        "id": "JXEQlGSUk9Aw",
        "outputId": "ad77503e-eeb5-48c3-d3d7-bf7d979e53c7"
      },
      "outputs": [
        {
          "name": "stdout",
          "output_type": "stream",
          "text": [
            "<class 'pandas.core.frame.DataFrame'>\n",
            "Int64Index: 491145 entries, 0 to 491144\n",
            "Data columns (total 14 columns):\n",
            " #   Column                Non-Null Count   Dtype         \n",
            "---  ------                --------------   -----         \n",
            " 0   salao_id              491145 non-null  int64         \n",
            " 1   datacad               491145 non-null  datetime64[ns]\n",
            " 2   tier                  491145 non-null  object        \n",
            " 3   data_verificacao      491145 non-null  datetime64[ns]\n",
            " 4   status_churn          491145 non-null  object        \n",
            " 5   pagamento_online      491145 non-null  float64       \n",
            " 6   revenda_id            491145 non-null  float64       \n",
            " 7   nfc_e                 491145 non-null  float64       \n",
            " 8   nfs_e                 491145 non-null  float64       \n",
            " 9   avecpay_id            491145 non-null  float64       \n",
            " 10  limite_profissionais  491145 non-null  float64       \n",
            " 11  data_expiracao        491145 non-null  object        \n",
            " 12  cidade                491145 non-null  object        \n",
            " 13  valor                 435820 non-null  float64       \n",
            "dtypes: datetime64[ns](2), float64(7), int64(1), object(4)\n",
            "memory usage: 56.2+ MB\n"
          ]
        }
      ],
      "source": [
        "df_model.info()"
      ]
    },
    {
      "cell_type": "code",
      "execution_count": null,
      "metadata": {
        "colab": {
          "base_uri": "https://localhost:8080/",
          "height": 301
        },
        "id": "YRFSt8YKkrlf",
        "outputId": "623f4b56-4592-48f4-83e7-961dd431d917"
      },
      "outputs": [
        {
          "data": {
            "text/html": [
              "<div>\n",
              "<style scoped>\n",
              "    .dataframe tbody tr th:only-of-type {\n",
              "        vertical-align: middle;\n",
              "    }\n",
              "\n",
              "    .dataframe tbody tr th {\n",
              "        vertical-align: top;\n",
              "    }\n",
              "\n",
              "    .dataframe thead th {\n",
              "        text-align: right;\n",
              "    }\n",
              "</style>\n",
              "<table border=\"1\" class=\"dataframe\">\n",
              "  <thead>\n",
              "    <tr style=\"text-align: right;\">\n",
              "      <th></th>\n",
              "      <th>salao_id</th>\n",
              "      <th>pagamento_online</th>\n",
              "      <th>revenda_id</th>\n",
              "      <th>nfc_e</th>\n",
              "      <th>nfs_e</th>\n",
              "      <th>avecpay_id</th>\n",
              "      <th>limite_profissionais</th>\n",
              "      <th>valor</th>\n",
              "    </tr>\n",
              "  </thead>\n",
              "  <tbody>\n",
              "    <tr>\n",
              "      <th>count</th>\n",
              "      <td>491145.000000</td>\n",
              "      <td>491145.000000</td>\n",
              "      <td>491145.000000</td>\n",
              "      <td>491145.000000</td>\n",
              "      <td>491145.000000</td>\n",
              "      <td>491145.000000</td>\n",
              "      <td>491145.000000</td>\n",
              "      <td>4.358200e+05</td>\n",
              "    </tr>\n",
              "    <tr>\n",
              "      <th>mean</th>\n",
              "      <td>57106.798066</td>\n",
              "      <td>0.113791</td>\n",
              "      <td>19.353291</td>\n",
              "      <td>0.055334</td>\n",
              "      <td>0.099207</td>\n",
              "      <td>9027.359902</td>\n",
              "      <td>305.693679</td>\n",
              "      <td>5.098478e+13</td>\n",
              "    </tr>\n",
              "    <tr>\n",
              "      <th>std</th>\n",
              "      <td>20085.225285</td>\n",
              "      <td>0.317558</td>\n",
              "      <td>59.419323</td>\n",
              "      <td>0.228631</td>\n",
              "      <td>0.298940</td>\n",
              "      <td>12674.703249</td>\n",
              "      <td>1639.130710</td>\n",
              "      <td>2.873311e+15</td>\n",
              "    </tr>\n",
              "    <tr>\n",
              "      <th>min</th>\n",
              "      <td>23.000000</td>\n",
              "      <td>0.000000</td>\n",
              "      <td>0.000000</td>\n",
              "      <td>0.000000</td>\n",
              "      <td>0.000000</td>\n",
              "      <td>0.000000</td>\n",
              "      <td>0.000000</td>\n",
              "      <td>0.000000e+00</td>\n",
              "    </tr>\n",
              "    <tr>\n",
              "      <th>25%</th>\n",
              "      <td>48951.000000</td>\n",
              "      <td>0.000000</td>\n",
              "      <td>0.000000</td>\n",
              "      <td>0.000000</td>\n",
              "      <td>0.000000</td>\n",
              "      <td>0.000000</td>\n",
              "      <td>5.000000</td>\n",
              "      <td>5.569300e+05</td>\n",
              "    </tr>\n",
              "    <tr>\n",
              "      <th>50%</th>\n",
              "      <td>62758.000000</td>\n",
              "      <td>0.000000</td>\n",
              "      <td>0.000000</td>\n",
              "      <td>0.000000</td>\n",
              "      <td>0.000000</td>\n",
              "      <td>0.000000</td>\n",
              "      <td>5.000000</td>\n",
              "      <td>8.436633e+06</td>\n",
              "    </tr>\n",
              "    <tr>\n",
              "      <th>75%</th>\n",
              "      <td>71440.000000</td>\n",
              "      <td>0.000000</td>\n",
              "      <td>3.000000</td>\n",
              "      <td>0.000000</td>\n",
              "      <td>0.000000</td>\n",
              "      <td>19245.000000</td>\n",
              "      <td>10.000000</td>\n",
              "      <td>4.724912e+07</td>\n",
              "    </tr>\n",
              "    <tr>\n",
              "      <th>max</th>\n",
              "      <td>87725.000000</td>\n",
              "      <td>1.000000</td>\n",
              "      <td>288.000000</td>\n",
              "      <td>1.000000</td>\n",
              "      <td>1.000000</td>\n",
              "      <td>42584.000000</td>\n",
              "      <td>17992.000000</td>\n",
              "      <td>2.300011e+17</td>\n",
              "    </tr>\n",
              "  </tbody>\n",
              "</table>\n",
              "</div>"
            ],
            "text/plain": [
              "            salao_id  pagamento_online     revenda_id          nfc_e  \\\n",
              "count  491145.000000     491145.000000  491145.000000  491145.000000   \n",
              "mean    57106.798066          0.113791      19.353291       0.055334   \n",
              "std     20085.225285          0.317558      59.419323       0.228631   \n",
              "min        23.000000          0.000000       0.000000       0.000000   \n",
              "25%     48951.000000          0.000000       0.000000       0.000000   \n",
              "50%     62758.000000          0.000000       0.000000       0.000000   \n",
              "75%     71440.000000          0.000000       3.000000       0.000000   \n",
              "max     87725.000000          1.000000     288.000000       1.000000   \n",
              "\n",
              "               nfs_e     avecpay_id  limite_profissionais         valor  \n",
              "count  491145.000000  491145.000000         491145.000000  4.358200e+05  \n",
              "mean        0.099207    9027.359902            305.693679  5.098478e+13  \n",
              "std         0.298940   12674.703249           1639.130710  2.873311e+15  \n",
              "min         0.000000       0.000000              0.000000  0.000000e+00  \n",
              "25%         0.000000       0.000000              5.000000  5.569300e+05  \n",
              "50%         0.000000       0.000000              5.000000  8.436633e+06  \n",
              "75%         0.000000   19245.000000             10.000000  4.724912e+07  \n",
              "max         1.000000   42584.000000          17992.000000  2.300011e+17  "
            ]
          },
          "execution_count": 193,
          "metadata": {},
          "output_type": "execute_result"
        }
      ],
      "source": [
        "df_model.describe()"
      ]
    },
    {
      "cell_type": "code",
      "execution_count": null,
      "metadata": {
        "colab": {
          "base_uri": "https://localhost:8080/"
        },
        "id": "JJ38nGyBjHAO",
        "outputId": "bba2d9db-1915-455a-db44-42bc66cb0175"
      },
      "outputs": [
        {
          "data": {
            "text/plain": [
              "salao_id                    0\n",
              "datacad                     0\n",
              "tier                        0\n",
              "data_verificacao            0\n",
              "status_churn                0\n",
              "pagamento_online            0\n",
              "revenda_id                  0\n",
              "nfc_e                       0\n",
              "nfs_e                       0\n",
              "avecpay_id                  0\n",
              "limite_profissionais        0\n",
              "data_expiracao              0\n",
              "cidade                      0\n",
              "valor                   55325\n",
              "dtype: int64"
            ]
          },
          "execution_count": 194,
          "metadata": {},
          "output_type": "execute_result"
        }
      ],
      "source": [
        "df_model.isna().sum()\n",
        "#Alguns dados nulos na coluna valor"
      ]
    },
    {
      "cell_type": "code",
      "execution_count": null,
      "metadata": {
        "id": "ut6Neq-Hk1q4"
      },
      "outputs": [],
      "source": [
        "perc_5 = np.nanpercentile(df_model.valor, 50)"
      ]
    },
    {
      "cell_type": "code",
      "execution_count": null,
      "metadata": {
        "id": "gz8HZu63jOa6"
      },
      "outputs": [],
      "source": [
        "df_model.fillna(value=perc_5, inplace=True)"
      ]
    },
    {
      "cell_type": "code",
      "execution_count": null,
      "metadata": {
        "colab": {
          "base_uri": "https://localhost:8080/"
        },
        "id": "xniDHKlPUBDM",
        "outputId": "8a216e5e-1fcd-4814-f402-1245eedfcd2b"
      },
      "outputs": [
        {
          "data": {
            "text/plain": [
              "0"
            ]
          },
          "execution_count": 197,
          "metadata": {},
          "output_type": "execute_result"
        }
      ],
      "source": [
        "df_model.duplicated().sum()\n",
        "# Nenhum dado duplicado"
      ]
    },
    {
      "cell_type": "code",
      "execution_count": null,
      "metadata": {
        "id": "-8KfFaVgrDsw"
      },
      "outputs": [],
      "source": [
        "df_model = pd.get_dummies(data=df_model, columns=['tier'], prefix=['tier'])\n",
        "# Realizando a dummyficação na coluna tier"
      ]
    },
    {
      "cell_type": "code",
      "execution_count": null,
      "metadata": {
        "id": "LPO3pr5SwCMh"
      },
      "outputs": [],
      "source": [
        "#df_model.head()"
      ]
    },
    {
      "cell_type": "code",
      "execution_count": null,
      "metadata": {
        "id": "cDJJdAZa07rz"
      },
      "outputs": [],
      "source": [
        "df_model['status_churn'] = df_model['status_churn'].replace({'ATIVO': 0, 'CHURN': 1, 'INATIVO': 1, 'INADIMPLENTE': 1})\n",
        "# Status churn será o nosso target para o modelo, por isso devemos alterar os valores para numéricos"
      ]
    },
    {
      "cell_type": "code",
      "execution_count": null,
      "metadata": {
        "id": "P0R-fxbRpazU"
      },
      "outputs": [],
      "source": [
        "df_model['pagamento_online'] = df_model['pagamento_online'].astype('int64')\n",
        "df_model['revenda_id'] = df_model['revenda_id'].astype('int64')\n",
        "df_model['nfc_e'] = df_model['nfc_e'].astype('int64')\n",
        "df_model['nfs_e'] = df_model['nfs_e'].astype('int64')\n",
        "df_model['avecpay_id'] = df_model['avecpay_id'].astype('int64')\n",
        "df_model['limite_profissionais'] = df_model['limite_profissionais'].astype('int64')\n",
        "# Alterando o tipo das colunas"
      ]
    },
    {
      "cell_type": "code",
      "execution_count": null,
      "metadata": {
        "id": "S_rN2DxMFuNj"
      },
      "outputs": [],
      "source": [
        "df_model.reset_index(inplace=True, drop=True)"
      ]
    },
    {
      "cell_type": "code",
      "execution_count": null,
      "metadata": {
        "colab": {
          "base_uri": "https://localhost:8080/",
          "height": 430
        },
        "id": "fJK2jDdby7YT",
        "outputId": "57d79802-6750-4936-f3c4-c2a50905adf1"
      },
      "outputs": [
        {
          "data": {
            "image/png": "[encoded data removed]",
            "text/plain": [
              "<Figure size 640x480 with 1 Axes>"
            ]
          },
          "metadata": {},
          "output_type": "display_data"
        }
      ],
      "source": [
        "sns.boxplot(df_model.limite_profissionais);\n",
        "# Verificando presença de outliers"
      ]
    },
    {
      "cell_type": "code",
      "execution_count": null,
      "metadata": {
        "colab": {
          "base_uri": "https://localhost:8080/"
        },
        "id": "qtu3hzlCFSZL",
        "outputId": "d7495f7c-0e0a-4909-a2b2-9c8ce1241041"
      },
      "outputs": [
        {
          "name": "stdout",
          "output_type": "stream",
          "text": [
            "Old Shape:  (491145, 18)\n",
            "New Shape:  (374115, 18)\n"
          ]
        },
        {
          "name": "stderr",
          "output_type": "stream",
          "text": [
            "/tmp/ipykernel_5924/1810573259.py:1: DeprecationWarning: the `interpolation=` argument to percentile was renamed to `method=`, which has additional options.\n",
            "Users of the modes 'nearest', 'lower', 'higher', or 'midpoint' are encouraged to review the method they used. (Deprecated NumPy 1.22)\n",
            "  q1_lp = np.percentile(df_model['limite_profissionais'], 25,\n",
            "/tmp/ipykernel_5924/1810573259.py:4: DeprecationWarning: the `interpolation=` argument to percentile was renamed to `method=`, which has additional options.\n",
            "Users of the modes 'nearest', 'lower', 'higher', or 'midpoint' are encouraged to review the method they used. (Deprecated NumPy 1.22)\n",
            "  q3_lp = np.percentile(df_model['limite_profissionais'], 75,\n"
          ]
        }
      ],
      "source": [
        "q1_lp = np.percentile(df_model['limite_profissionais'], 25,\n",
        "                   interpolation = 'midpoint')\n",
        "\n",
        "q3_lp = np.percentile(df_model['limite_profissionais'], 75,\n",
        "                   interpolation = 'midpoint')\n",
        "iqr_lp = q3_lp - q1_lp\n",
        "\n",
        "print(\"Old Shape: \", df_model.shape)\n",
        "\n",
        "# Limite Superior\n",
        "upper_lp = np.where(df_model['limite_profissionais'] >= (q3_lp+1.5*iqr_lp))\n",
        "# Limite Inferior\n",
        "lower_lp = np.where(df_model['limite_profissionais'] <= (q1_lp-1.5*iqr_lp))\n",
        "\n",
        "# Removendo Outliers\n",
        "df_model.drop(upper_lp[0], inplace = True)\n",
        "df_model.drop(lower_lp[0], inplace = True)\n",
        "\n",
        "print(\"New Shape: \", df_model.shape)"
      ]
    },
    {
      "cell_type": "code",
      "execution_count": null,
      "metadata": {
        "colab": {
          "base_uri": "https://localhost:8080/",
          "height": 430
        },
        "id": "HU6uJk0DHb4i",
        "outputId": "7a9635c6-041d-46ad-f2a8-eb8d1f2f7bba"
      },
      "outputs": [
        {
          "data": {
            "image/png": "[encoded data removed]",
            "text/plain": [
              "<Figure size 640x480 with 1 Axes>"
            ]
          },
          "metadata": {},
          "output_type": "display_data"
        }
      ],
      "source": [
        "sns.boxplot(df_model.limite_profissionais);\n",
        "# Verificando novamente..."
      ]
    },
    {
      "cell_type": "code",
      "execution_count": null,
      "metadata": {
        "id": "Y20XHpUzHxrP"
      },
      "outputs": [],
      "source": [
        "df_model.reset_index(inplace=True, drop=True)"
      ]
    },
    {
      "cell_type": "code",
      "execution_count": null,
      "metadata": {
        "colab": {
          "base_uri": "https://localhost:8080/",
          "height": 445
        },
        "id": "vNmxYUf4H2d0",
        "outputId": "a0e9f436-8156-41ab-b0f1-0a7228f936aa"
      },
      "outputs": [
        {
          "data": {
            "image/png": "[encoded data removed]",
            "text/plain": [
              "<Figure size 640x480 with 1 Axes>"
            ]
          },
          "metadata": {},
          "output_type": "display_data"
        }
      ],
      "source": [
        "sns.boxplot(df_model.valor);\n",
        "# Verificando presença de outliers"
      ]
    },
    {
      "cell_type": "code",
      "execution_count": null,
      "metadata": {
        "colab": {
          "base_uri": "https://localhost:8080/"
        },
        "id": "tRcZSUKOHRSs",
        "outputId": "99aa4fe6-51b8-4251-8f1e-2ab5c3445bbd"
      },
      "outputs": [
        {
          "name": "stdout",
          "output_type": "stream",
          "text": [
            "Old Shape:  (374115, 18)\n",
            "New Shape:  (323971, 18)\n"
          ]
        },
        {
          "name": "stderr",
          "output_type": "stream",
          "text": [
            "/tmp/ipykernel_5924/2472746955.py:1: DeprecationWarning: the `interpolation=` argument to percentile was renamed to `method=`, which has additional options.\n",
            "Users of the modes 'nearest', 'lower', 'higher', or 'midpoint' are encouraged to review the method they used. (Deprecated NumPy 1.22)\n",
            "  q1_v = np.percentile(df_model['valor'], 25,\n",
            "/tmp/ipykernel_5924/2472746955.py:4: DeprecationWarning: the `interpolation=` argument to percentile was renamed to `method=`, which has additional options.\n",
            "Users of the modes 'nearest', 'lower', 'higher', or 'midpoint' are encouraged to review the method they used. (Deprecated NumPy 1.22)\n",
            "  q3_v = np.percentile(df_model['valor'], 75,\n"
          ]
        }
      ],
      "source": [
        "q1_v = np.percentile(df_model['valor'], 25,\n",
        "                   interpolation = 'midpoint')\n",
        "\n",
        "q3_v = np.percentile(df_model['valor'], 75,\n",
        "                   interpolation = 'midpoint')\n",
        "iqr_v = q3_v - q1_v\n",
        "\n",
        "print(\"Old Shape: \", df_model.shape)\n",
        "\n",
        "# Limite Superior\n",
        "upper_v = np.where(df_model['valor'] >= (q3_v+1.5*iqr_v))\n",
        "# Limite Inferior\n",
        "lower_v = np.where(df_model['valor'] <= (q1_v-1.5*iqr_v))\n",
        "\n",
        "# Removendo Outliers\n",
        "df_model.drop(upper_v[0], inplace = True)\n",
        "df_model.drop(lower_v[0], inplace = True)\n",
        "\n",
        "print(\"New Shape: \", df_model.shape)"
      ]
    },
    {
      "cell_type": "code",
      "execution_count": null,
      "metadata": {
        "colab": {
          "base_uri": "https://localhost:8080/",
          "height": 445
        },
        "id": "DOPPCWt3H-wD",
        "outputId": "8f104613-ca80-4a4b-866f-29ae4a71ce90"
      },
      "outputs": [
        {
          "data": {
            "image/png": "[encoded data removed]",
            "text/plain": [
              "<Figure size 640x480 with 1 Axes>"
            ]
          },
          "metadata": {},
          "output_type": "display_data"
        }
      ],
      "source": [
        "sns.boxplot(df_model.valor);\n",
        "# Verificando novamente..."
      ]
    },
    {
      "cell_type": "code",
      "execution_count": null,
      "metadata": {
        "id": "I0yirGSrI2ys"
      },
      "outputs": [],
      "source": [
        "df_model.reset_index(inplace=True, drop=True)"
      ]
    },
    {
      "cell_type": "code",
      "execution_count": null,
      "metadata": {
        "id": "Lqecf8u_Rv72"
      },
      "outputs": [],
      "source": [
        "df_model[df_model['revenda_id'] != 0] = 1\n",
        "df_model[df_model['avecpay_id'] != 0] = 1\n",
        "#Alterando os valores diferentes de 0 para 1, alterando, assim, as colunas revenda_id e avexpay_id para binárias"
      ]
    },
    {
      "cell_type": "code",
      "execution_count": null,
      "metadata": {
        "id": "xZA8dpXtzOw-"
      },
      "outputs": [],
      "source": [
        "df_model['dias_cad_verif'] = abs(df_model['datacad'] - df_model['data_verificacao'])\n",
        "df_model['dias_cad_verif'] = pd.to_timedelta(df_model['dias_cad_verif'], unit='D')\n",
        "df_model['dias_cad_verif'] = df_model['dias_cad_verif'] / np.timedelta64(1, 'D')\n",
        "df_model['dias_cad_verif'] = df_model['dias_cad_verif'].astype('int64')\n",
        "# Criando a coluna dias_cad_verif, que a diferença de dias entre o cadastro e a verificação do status"
      ]
    },
    {
      "cell_type": "code",
      "execution_count": null,
      "metadata": {
        "colab": {
          "base_uri": "https://localhost:8080/",
          "height": 430
        },
        "id": "-ZJnHsRfMcPd",
        "outputId": "aa7ea259-ee93-4572-9e80-cbfd2608b31c"
      },
      "outputs": [
        {
          "data": {
            "image/png": "[encoded data removed]",
            "text/plain": [
              "<Figure size 640x480 with 1 Axes>"
            ]
          },
          "metadata": {},
          "output_type": "display_data"
        }
      ],
      "source": [
        "sns.boxplot(df_model.dias_cad_verif);\n",
        "#Verificando outliers..."
      ]
    },
    {
      "cell_type": "code",
      "execution_count": null,
      "metadata": {
        "colab": {
          "base_uri": "https://localhost:8080/"
        },
        "id": "ZtF-9sl4MrD7",
        "outputId": "b0024f2a-def7-4700-a201-d988d55bf1a7"
      },
      "outputs": [
        {
          "name": "stdout",
          "output_type": "stream",
          "text": [
            "Old Shape:  (323971, 19)\n",
            "New Shape:  (286503, 19)\n"
          ]
        },
        {
          "name": "stderr",
          "output_type": "stream",
          "text": [
            "/tmp/ipykernel_5924/38908033.py:1: DeprecationWarning: the `interpolation=` argument to percentile was renamed to `method=`, which has additional options.\n",
            "Users of the modes 'nearest', 'lower', 'higher', or 'midpoint' are encouraged to review the method they used. (Deprecated NumPy 1.22)\n",
            "  q1_d = np.percentile(df_model['dias_cad_verif'], 25,\n",
            "/tmp/ipykernel_5924/38908033.py:4: DeprecationWarning: the `interpolation=` argument to percentile was renamed to `method=`, which has additional options.\n",
            "Users of the modes 'nearest', 'lower', 'higher', or 'midpoint' are encouraged to review the method they used. (Deprecated NumPy 1.22)\n",
            "  q3_d = np.percentile(df_model['dias_cad_verif'], 75,\n"
          ]
        }
      ],
      "source": [
        "q1_d = np.percentile(df_model['dias_cad_verif'], 25,\n",
        "                   interpolation = 'midpoint')\n",
        "\n",
        "q3_d = np.percentile(df_model['dias_cad_verif'], 75,\n",
        "                   interpolation = 'midpoint')\n",
        "iqr_d = q3_d - q1_d\n",
        "\n",
        "print(\"Old Shape: \", df_model.shape)\n",
        "\n",
        "# Limite Superior\n",
        "upper_d = np.where(df_model['dias_cad_verif'] >= (q3_d+1.5*iqr_d))\n",
        "# Limite Inferior\n",
        "lower_d = np.where(df_model['dias_cad_verif'] <= (q1_d-1.5*iqr_d))\n",
        "\n",
        "# Removendo Outliers\n",
        "df_model.drop(upper_d[0], inplace = True)\n",
        "df_model.drop(lower_d[0], inplace = True)\n",
        "\n",
        "print(\"New Shape: \", df_model.shape)"
      ]
    },
    {
      "cell_type": "code",
      "execution_count": null,
      "metadata": {
        "colab": {
          "base_uri": "https://localhost:8080/",
          "height": 430
        },
        "id": "MoS7E5vSNIIF",
        "outputId": "224ae958-fd0f-4b45-d83d-4831d5431f29"
      },
      "outputs": [
        {
          "data": {
            "image/png": "[encoded data removed]",
            "text/plain": [
              "<Figure size 640x480 with 1 Axes>"
            ]
          },
          "metadata": {},
          "output_type": "display_data"
        }
      ],
      "source": [
        "sns.boxplot(df_model.dias_cad_verif);\n",
        "# Verificando novamente..."
      ]
    },
    {
      "cell_type": "code",
      "execution_count": null,
      "metadata": {
        "id": "B1cQRrGKQFPx"
      },
      "outputs": [],
      "source": [
        "df_model.reset_index(inplace=True, drop=True)"
      ]
    },
    {
      "cell_type": "code",
      "execution_count": null,
      "metadata": {
        "colab": {
          "base_uri": "https://localhost:8080/"
        },
        "id": "8O_8Zjd7RLVl",
        "outputId": "3f942082-f095-40e1-b2ec-d43e416a7fe8"
      },
      "outputs": [
        {
          "data": {
            "text/plain": [
              "(286503, 19)"
            ]
          },
          "execution_count": 217,
          "metadata": {},
          "output_type": "execute_result"
        }
      ],
      "source": [
        "df_model.shape"
      ]
    },
    {
      "cell_type": "code",
      "execution_count": null,
      "metadata": {
        "id": "F12oo_c5Ef8S",
        "outputId": "695d818e-4b0f-4cae-a47c-3dd44c8ab570"
      },
      "outputs": [
        {
          "data": {
            "text/plain": [
              "176778"
            ]
          },
          "execution_count": 218,
          "metadata": {},
          "output_type": "execute_result"
        }
      ],
      "source": [
        "df_model.duplicated().sum()"
      ]
    },
    {
      "cell_type": "code",
      "execution_count": null,
      "metadata": {
        "id": "PB9NyvxlEf8S"
      },
      "outputs": [],
      "source": [
        "df_model.drop_duplicates(inplace=True)"
      ]
    },
    {
      "cell_type": "code",
      "execution_count": null,
      "metadata": {
        "id": "e0jwTXvrEf8T",
        "outputId": "89e3509e-52c0-4e49-e379-36b84bac20f5"
      },
      "outputs": [
        {
          "data": {
            "text/plain": [
              "(109725, 19)"
            ]
          },
          "execution_count": 220,
          "metadata": {},
          "output_type": "execute_result"
        }
      ],
      "source": [
        "df_model.shape"
      ]
    },
    {
      "cell_type": "code",
      "execution_count": null,
      "metadata": {
        "id": "wFgIa1cpEf8T"
      },
      "outputs": [],
      "source": [
        "df_model.reset_index(inplace=True, drop=True)"
      ]
    },
    {
      "cell_type": "markdown",
      "metadata": {
        "id": "eBNHmPKQhG6v"
      },
      "source": [
        "# Modelling"
      ]
    },
    {
      "cell_type": "markdown",
      "metadata": {
        "id": "BhadCVGQsejR"
      },
      "source": [
        "### Separação das features\n"
      ]
    },
    {
      "cell_type": "code",
      "execution_count": null,
      "metadata": {
        "id": "HGLxnrFEn9Tz"
      },
      "outputs": [],
      "source": [
        "df_model.rename(columns={'tier_1.MICRO': 'tier_1_MICRO',\n",
        "                         'tier_2.SMALL': 'tier_2_SMALL',\n",
        "                         'tier_3.MEDIUM': 'tier_3_MEDIUM',\n",
        "                         'tier_4.LARGE': 'tier_4_LARGE',\n",
        "                         'tier_5.ENTERPRISE': 'tier_5_ENTERPRISE'\n",
        "                        }, inplace=True)"
      ]
    },
    {
      "cell_type": "code",
      "execution_count": null,
      "metadata": {
        "id": "aNbyPjtfPMOX"
      },
      "outputs": [],
      "source": [
        "x_features = ['pagamento_online','avecpay_id','valor','limite_profissionais','tier_1_MICRO',\n",
        "              'tier_2_SMALL','tier_3_MEDIUM','tier_4_LARGE','tier_5_ENTERPRISE', 'dias_cad_verif']\n",
        "x = df_model[x_features]\n",
        "y = df_model['status_churn']"
      ]
    },
    {
      "cell_type": "code",
      "execution_count": null,
      "metadata": {
        "id": "FLz05bqmEf8U"
      },
      "outputs": [],
      "source": [
        "# Padronização dos dados\n",
        "scaler = StandardScaler()\n",
        "x_std = x.copy()\n",
        "x_std[['valor','limite_profissionais','dias_cad_verif']] = scaler.fit_transform(x[['valor','limite_profissionais','dias_cad_verif']])"
      ]
    },
    {
      "cell_type": "code",
      "execution_count": null,
      "metadata": {
        "id": "dUHMnFWpcVIk"
      },
      "outputs": [],
      "source": [
        "# Separação em treino e teste\n",
        "x_train, x_test, y_train, y_test = train_test_split(x_std, y, test_size=0.3, random_state=42)"
      ]
    },
    {
      "cell_type": "code",
      "execution_count": null,
      "metadata": {
        "id": "fcKTLqWlShoS"
      },
      "outputs": [],
      "source": [
        "# Realizando o balanceamento dos dados\n",
        "smt = SMOTE(random_state=42)\n",
        "x_res, y_res = smt.fit_resample(x_train, y_train)"
      ]
    },
    {
      "cell_type": "markdown",
      "metadata": {
        "id": "-grS5k7msk_s"
      },
      "source": [
        "### Decision Tree Classifier (Modelo Escolhido)"
      ]
    },
    {
      "cell_type": "code",
      "execution_count": null,
      "metadata": {
        "colab": {
          "base_uri": "https://localhost:8080/",
          "height": 75
        },
        "id": "EU8K7IGXwJvh",
        "outputId": "8ab7afa7-23a0-4069-ae91-91572dccfb99"
      },
      "outputs": [
        {
          "data": {
            "text/html": [
              "<style>#sk-container-id-16 {color: black;background-color: white;}#sk-container-id-16 pre{padding: 0;}#sk-container-id-16 div.sk-toggleable {background-color: white;}#sk-container-id-16 label.sk-toggleable__label {cursor: pointer;display: block;width: 100%;margin-bottom: 0;padding: 0.3em;box-sizing: border-box;text-align: center;}#sk-container-id-16 label.sk-toggleable__label-arrow:before {content: \"▸\";float: left;margin-right: 0.25em;color: #696969;}#sk-container-id-16 label.sk-toggleable__label-arrow:hover:before {color: black;}#sk-container-id-16 div.sk-estimator:hover label.sk-toggleable__label-arrow:before {color: black;}#sk-container-id-16 div.sk-toggleable__content {max-height: 0;max-width: 0;overflow: hidden;text-align: left;background-color: #f0f8ff;}#sk-container-id-16 div.sk-toggleable__content pre {margin: 0.2em;color: black;border-radius: 0.25em;background-color: #f0f8ff;}#sk-container-id-16 input.sk-toggleable__control:checked~div.sk-toggleable__content {max-height: 200px;max-width: 100%;overflow: auto;}#sk-container-id-16 input.sk-toggleable__control:checked~label.sk-toggleable__label-arrow:before {content: \"▾\";}#sk-container-id-16 div.sk-estimator input.sk-toggleable__control:checked~label.sk-toggleable__label {background-color: #d4ebff;}#sk-container-id-16 div.sk-label input.sk-toggleable__control:checked~label.sk-toggleable__label {background-color: #d4ebff;}#sk-container-id-16 input.sk-hidden--visually {border: 0;clip: rect(1px 1px 1px 1px);clip: rect(1px, 1px, 1px, 1px);height: 1px;margin: -1px;overflow: hidden;padding: 0;position: absolute;width: 1px;}#sk-container-id-16 div.sk-estimator {font-family: monospace;background-color: #f0f8ff;border: 1px dotted black;border-radius: 0.25em;box-sizing: border-box;margin-bottom: 0.5em;}#sk-container-id-16 div.sk-estimator:hover {background-color: #d4ebff;}#sk-container-id-16 div.sk-parallel-item::after {content: \"\";width: 100%;border-bottom: 1px solid gray;flex-grow: 1;}#sk-container-id-16 div.sk-label:hover label.sk-toggleable__label {background-color: #d4ebff;}#sk-container-id-16 div.sk-serial::before {content: \"\";position: absolute;border-left: 1px solid gray;box-sizing: border-box;top: 0;bottom: 0;left: 50%;z-index: 0;}#sk-container-id-16 div.sk-serial {display: flex;flex-direction: column;align-items: center;background-color: white;padding-right: 0.2em;padding-left: 0.2em;position: relative;}#sk-container-id-16 div.sk-item {position: relative;z-index: 1;}#sk-container-id-16 div.sk-parallel {display: flex;align-items: stretch;justify-content: center;background-color: white;position: relative;}#sk-container-id-16 div.sk-item::before, #sk-container-id-16 div.sk-parallel-item::before {content: \"\";position: absolute;border-left: 1px solid gray;box-sizing: border-box;top: 0;bottom: 0;left: 50%;z-index: -1;}#sk-container-id-16 div.sk-parallel-item {display: flex;flex-direction: column;z-index: 1;position: relative;background-color: white;}#sk-container-id-16 div.sk-parallel-item:first-child::after {align-self: flex-end;width: 50%;}#sk-container-id-16 div.sk-parallel-item:last-child::after {align-self: flex-start;width: 50%;}#sk-container-id-16 div.sk-parallel-item:only-child::after {width: 0;}#sk-container-id-16 div.sk-dashed-wrapped {border: 1px dashed gray;margin: 0 0.4em 0.5em 0.4em;box-sizing: border-box;padding-bottom: 0.4em;background-color: white;}#sk-container-id-16 div.sk-label label {font-family: monospace;font-weight: bold;display: inline-block;line-height: 1.2em;}#sk-container-id-16 div.sk-label-container {text-align: center;}#sk-container-id-16 div.sk-container {/* jupyter's `normalize.less` sets `[hidden] { display: none; }` but bootstrap.min.css set `[hidden] { display: none !important; }` so we also need the `!important` here to be able to override the default hidden behavior on the sphinx rendered scikit-learn.org. See: https://github.com/scikit-learn/scikit-learn/issues/21755 */display: inline-block !important;position: relative;}#sk-container-id-16 div.sk-text-repr-fallback {display: none;}</style><div id=\"sk-container-id-16\" class=\"sk-top-container\"><div class=\"sk-text-repr-fallback\"><pre>DecisionTreeClassifier(random_state=42)</pre><b>In a Jupyter environment, please rerun this cell to show the HTML representation or trust the notebook. <br />On GitHub, the HTML representation is unable to render, please try loading this page with nbviewer.org.</b></div><div class=\"sk-container\" hidden><div class=\"sk-item\"><div class=\"sk-estimator sk-toggleable\"><input class=\"sk-toggleable__control sk-hidden--visually\" id=\"sk-estimator-id-16\" type=\"checkbox\" checked><label for=\"sk-estimator-id-16\" class=\"sk-toggleable__label sk-toggleable__label-arrow\">DecisionTreeClassifier</label><div class=\"sk-toggleable__content\"><pre>DecisionTreeClassifier(random_state=42)</pre></div></div></div></div></div>"
            ],
            "text/plain": [
              "DecisionTreeClassifier(random_state=42)"
            ]
          },
          "execution_count": 271,
          "metadata": {},
          "output_type": "execute_result"
        }
      ],
      "source": [
        "dtc = DecisionTreeClassifier(random_state=42)\n",
        "dtc.fit(x_res, y_res)"
      ]
    },
    {
      "cell_type": "markdown",
      "metadata": {
        "id": "5VoN1HJo5da3"
      },
      "source": [
        "#### Avaliação do Modelo DTC"
      ]
    },
    {
      "cell_type": "code",
      "execution_count": null,
      "metadata": {
        "id": "ryIp8scMwRUc"
      },
      "outputs": [],
      "source": [
        "dtc_pred = dtc.predict(x_test)"
      ]
    },
    {
      "cell_type": "code",
      "execution_count": null,
      "metadata": {
        "colab": {
          "base_uri": "https://localhost:8080/"
        },
        "id": "LkZfxz6TwX2d",
        "outputId": "ea0a47c4-3d2b-444c-9ac3-0effe075e846"
      },
      "outputs": [
        {
          "data": {
            "text/plain": [
              "status_churn\n",
              "0               23255\n",
              "1                9663\n",
              "dtype: int64"
            ]
          },
          "execution_count": 273,
          "metadata": {},
          "output_type": "execute_result"
        }
      ],
      "source": [
        "dtc_pred = pd.DataFrame(dtc_pred, columns=['status_churn'])\n",
        "dtc_pred.value_counts()"
      ]
    },
    {
      "cell_type": "code",
      "execution_count": null,
      "metadata": {
        "id": "4iUHsamFEf8W",
        "outputId": "2bd02427-8d37-43ef-cbcc-d883e40d1cdb"
      },
      "outputs": [
        {
          "data": {
            "image/png": "[encoded data removed]",
            "text/plain": [
              "<Figure size 640x480 with 2 Axes>"
            ]
          },
          "metadata": {},
          "output_type": "display_data"
        }
      ],
      "source": [
        "cm = confusion_matrix(y_test, dtc_pred, labels=dtc.classes_)\n",
        "# disp = ConfusionMatrixDisplay(confusion_matrix=cm, display_labels=rf.classes_)\n",
        "# disp.plot()\n",
        "# plt.show()\n",
        "sns.heatmap(cm/np.sum(cm), annot=True, fmt='.2%', cmap='Greens')\n",
        "plt.show()"
      ]
    },
    {
      "cell_type": "code",
      "execution_count": null,
      "metadata": {
        "colab": {
          "base_uri": "https://localhost:8080/"
        },
        "id": "IB6lctVu22hW",
        "outputId": "71604331-36b5-474a-964f-009422f513b1"
      },
      "outputs": [
        {
          "name": "stdout",
          "output_type": "stream",
          "text": [
            "Acurácia DTC (Treino): 0.9605114117202859\n",
            "Acurácia DTC (Teste): 0.816058083723191\n",
            "====================================\n",
            "Precision DTC (Treino): 0.9381795685429162\n",
            "Precision DTC (Teste): 0.7492945392382948\n",
            "====================================\n",
            "Recall DTC (Treino): 0.9552728961024881\n",
            "Recall DTC (Teste): 0.7872554394700446\n",
            "====================================\n",
            "F1-Score DTC (Treino): 0.946321795773834\n",
            "F1-Score DTC (Teste): 0.7635963141643998\n"
          ]
        }
      ],
      "source": [
        "print(f\"Acurácia DTC (Treino): {accuracy_score(y_train, dtc.predict(x_train))}\")\n",
        "print(f\"Acurácia DTC (Teste): {accuracy_score(y_test, dtc.predict(x_test))}\")\n",
        "print(\"====================================\")\n",
        "print(f\"Precision DTC (Treino): {precision_score(y_train, dtc.predict(x_train), average='macro')}\")\n",
        "print(f\"Precision DTC (Teste): {precision_score(y_test, dtc.predict(x_test), average='macro')}\")\n",
        "print(\"====================================\")\n",
        "print(f\"Recall DTC (Treino): {recall_score(y_train, dtc.predict(x_train), average='macro')}\")\n",
        "print(f\"Recall DTC (Teste): {recall_score(y_test, dtc.predict(x_test), average='macro')}\")\n",
        "print(\"====================================\")\n",
        "print(f\"F1-Score DTC (Treino): {f1_score(y_train, dtc.predict(x_train), average='macro')}\")\n",
        "print(f\"F1-Score DTC (Teste): {f1_score(y_test, dtc.predict(x_test), average='macro')}\")"
      ]
    },
    {
      "cell_type": "code",
      "execution_count": null,
      "metadata": {
        "id": "lX-RaU3_Ef8X",
        "outputId": "b89b5997-827c-4351-9765-3273fe405b68"
      },
      "outputs": [
        {
          "name": "stdout",
          "output_type": "stream",
          "text": [
            "valor: 60.720479%\n",
            "dias_cad_verif: 35.443769%\n",
            "limite_profissionais: 2.236493%\n",
            "tier_2_SMALL: 0.686166%\n",
            "tier_1_MICRO: 0.433861%\n",
            "tier_3_MEDIUM: 0.360927%\n",
            "pagamento_online: 0.085118%\n",
            "tier_4_LARGE: 0.033187%\n",
            "tier_5_ENTERPRISE: 0.000000%\n",
            "avecpay_id: 0.000000%\n"
          ]
        }
      ],
      "source": [
        "features_importance = zip(dtc.feature_importances_, x_features)\n",
        "for importance, feature in sorted(features_importance, reverse=True):\n",
        "    print(\"%s: %f%%\" % (feature, importance*100))"
      ]
    },
    {
      "cell_type": "markdown",
      "metadata": {
        "id": "YHmoL2HRqWJz"
      },
      "source": [
        "### Random Forest Classifier"
      ]
    },
    {
      "cell_type": "code",
      "execution_count": null,
      "metadata": {
        "colab": {
          "base_uri": "https://localhost:8080/",
          "height": 75
        },
        "id": "-51c6oLhqVag",
        "outputId": "f3d76864-a137-45df-e157-6676dce12248"
      },
      "outputs": [
        {
          "data": {
            "text/html": [
              "<style>#sk-container-id-17 {color: black;background-color: white;}#sk-container-id-17 pre{padding: 0;}#sk-container-id-17 div.sk-toggleable {background-color: white;}#sk-container-id-17 label.sk-toggleable__label {cursor: pointer;display: block;width: 100%;margin-bottom: 0;padding: 0.3em;box-sizing: border-box;text-align: center;}#sk-container-id-17 label.sk-toggleable__label-arrow:before {content: \"▸\";float: left;margin-right: 0.25em;color: #696969;}#sk-container-id-17 label.sk-toggleable__label-arrow:hover:before {color: black;}#sk-container-id-17 div.sk-estimator:hover label.sk-toggleable__label-arrow:before {color: black;}#sk-container-id-17 div.sk-toggleable__content {max-height: 0;max-width: 0;overflow: hidden;text-align: left;background-color: #f0f8ff;}#sk-container-id-17 div.sk-toggleable__content pre {margin: 0.2em;color: black;border-radius: 0.25em;background-color: #f0f8ff;}#sk-container-id-17 input.sk-toggleable__control:checked~div.sk-toggleable__content {max-height: 200px;max-width: 100%;overflow: auto;}#sk-container-id-17 input.sk-toggleable__control:checked~label.sk-toggleable__label-arrow:before {content: \"▾\";}#sk-container-id-17 div.sk-estimator input.sk-toggleable__control:checked~label.sk-toggleable__label {background-color: #d4ebff;}#sk-container-id-17 div.sk-label input.sk-toggleable__control:checked~label.sk-toggleable__label {background-color: #d4ebff;}#sk-container-id-17 input.sk-hidden--visually {border: 0;clip: rect(1px 1px 1px 1px);clip: rect(1px, 1px, 1px, 1px);height: 1px;margin: -1px;overflow: hidden;padding: 0;position: absolute;width: 1px;}#sk-container-id-17 div.sk-estimator {font-family: monospace;background-color: #f0f8ff;border: 1px dotted black;border-radius: 0.25em;box-sizing: border-box;margin-bottom: 0.5em;}#sk-container-id-17 div.sk-estimator:hover {background-color: #d4ebff;}#sk-container-id-17 div.sk-parallel-item::after {content: \"\";width: 100%;border-bottom: 1px solid gray;flex-grow: 1;}#sk-container-id-17 div.sk-label:hover label.sk-toggleable__label {background-color: #d4ebff;}#sk-container-id-17 div.sk-serial::before {content: \"\";position: absolute;border-left: 1px solid gray;box-sizing: border-box;top: 0;bottom: 0;left: 50%;z-index: 0;}#sk-container-id-17 div.sk-serial {display: flex;flex-direction: column;align-items: center;background-color: white;padding-right: 0.2em;padding-left: 0.2em;position: relative;}#sk-container-id-17 div.sk-item {position: relative;z-index: 1;}#sk-container-id-17 div.sk-parallel {display: flex;align-items: stretch;justify-content: center;background-color: white;position: relative;}#sk-container-id-17 div.sk-item::before, #sk-container-id-17 div.sk-parallel-item::before {content: \"\";position: absolute;border-left: 1px solid gray;box-sizing: border-box;top: 0;bottom: 0;left: 50%;z-index: -1;}#sk-container-id-17 div.sk-parallel-item {display: flex;flex-direction: column;z-index: 1;position: relative;background-color: white;}#sk-container-id-17 div.sk-parallel-item:first-child::after {align-self: flex-end;width: 50%;}#sk-container-id-17 div.sk-parallel-item:last-child::after {align-self: flex-start;width: 50%;}#sk-container-id-17 div.sk-parallel-item:only-child::after {width: 0;}#sk-container-id-17 div.sk-dashed-wrapped {border: 1px dashed gray;margin: 0 0.4em 0.5em 0.4em;box-sizing: border-box;padding-bottom: 0.4em;background-color: white;}#sk-container-id-17 div.sk-label label {font-family: monospace;font-weight: bold;display: inline-block;line-height: 1.2em;}#sk-container-id-17 div.sk-label-container {text-align: center;}#sk-container-id-17 div.sk-container {/* jupyter's `normalize.less` sets `[hidden] { display: none; }` but bootstrap.min.css set `[hidden] { display: none !important; }` so we also need the `!important` here to be able to override the default hidden behavior on the sphinx rendered scikit-learn.org. See: https://github.com/scikit-learn/scikit-learn/issues/21755 */display: inline-block !important;position: relative;}#sk-container-id-17 div.sk-text-repr-fallback {display: none;}</style><div id=\"sk-container-id-17\" class=\"sk-top-container\"><div class=\"sk-text-repr-fallback\"><pre>RandomForestClassifier(random_state=42)</pre><b>In a Jupyter environment, please rerun this cell to show the HTML representation or trust the notebook. <br />On GitHub, the HTML representation is unable to render, please try loading this page with nbviewer.org.</b></div><div class=\"sk-container\" hidden><div class=\"sk-item\"><div class=\"sk-estimator sk-toggleable\"><input class=\"sk-toggleable__control sk-hidden--visually\" id=\"sk-estimator-id-17\" type=\"checkbox\" checked><label for=\"sk-estimator-id-17\" class=\"sk-toggleable__label sk-toggleable__label-arrow\">RandomForestClassifier</label><div class=\"sk-toggleable__content\"><pre>RandomForestClassifier(random_state=42)</pre></div></div></div></div></div>"
            ],
            "text/plain": [
              "RandomForestClassifier(random_state=42)"
            ]
          },
          "execution_count": 277,
          "metadata": {},
          "output_type": "execute_result"
        }
      ],
      "source": [
        "rf = RandomForestClassifier(random_state=42)\n",
        "rf.fit(x_res, y_res)"
      ]
    },
    {
      "cell_type": "markdown",
      "metadata": {
        "id": "AnWb7WCAq-dE"
      },
      "source": [
        "#### Avaliação do Modelo RF"
      ]
    },
    {
      "cell_type": "code",
      "execution_count": null,
      "metadata": {
        "colab": {
          "base_uri": "https://localhost:8080/"
        },
        "id": "IXkBTWFUqjHw",
        "outputId": "a3813753-58f4-48ad-ba60-d019256a1b10"
      },
      "outputs": [
        {
          "data": {
            "text/plain": [
              "array([0, 1])"
            ]
          },
          "execution_count": 278,
          "metadata": {},
          "output_type": "execute_result"
        }
      ],
      "source": [
        "rf_pred = pd.DataFrame(rf.predict(x_test), columns=['status_churn'])\n",
        "rf_pred.status_churn.unique()"
      ]
    },
    {
      "cell_type": "code",
      "execution_count": null,
      "metadata": {
        "colab": {
          "base_uri": "https://localhost:8080/"
        },
        "id": "uEbh5UihqoiA",
        "outputId": "e72bb3ee-4a4b-4f08-db62-dfae128e36d2"
      },
      "outputs": [
        {
          "data": {
            "text/plain": [
              "0    23048\n",
              "1     9870\n",
              "Name: status_churn, dtype: int64"
            ]
          },
          "execution_count": 279,
          "metadata": {},
          "output_type": "execute_result"
        }
      ],
      "source": [
        "rf_pred.status_churn.value_counts()"
      ]
    },
    {
      "cell_type": "code",
      "execution_count": null,
      "metadata": {
        "id": "Hlj4-veWEf8Y",
        "outputId": "6d762a7b-29b6-4091-b33f-80aecc7dc4dd"
      },
      "outputs": [
        {
          "data": {
            "image/png": "[encoded data removed]",
            "text/plain": [
              "<Figure size 640x480 with 2 Axes>"
            ]
          },
          "metadata": {},
          "output_type": "display_data"
        }
      ],
      "source": [
        "cm = confusion_matrix(y_test, rf_pred, labels=rf.classes_)\n",
        "# disp = ConfusionMatrixDisplay(confusion_matrix=cm, display_labels=rf.classes_)\n",
        "# disp.plot()\n",
        "# plt.show()\n",
        "sns.heatmap(cm/np.sum(cm), annot=True, fmt='.2%', cmap='Greens')\n",
        "plt.show()"
      ]
    },
    {
      "cell_type": "code",
      "execution_count": null,
      "metadata": {
        "colab": {
          "base_uri": "https://localhost:8080/"
        },
        "id": "vWBhmo2Oqtbd",
        "outputId": "40cb8d86-cbc1-46cb-f8e1-f74f95744aa6"
      },
      "outputs": [
        {
          "name": "stdout",
          "output_type": "stream",
          "text": [
            "Acurácia rf (Treino): 0.9601468616141758\n",
            "Acurácia rf (Teste): 0.8087976183243211\n",
            "====================================\n",
            "Precision rf (Treino): 0.9338928473097821\n",
            "Precision rf (Teste): 0.7415753898212338\n",
            "====================================\n",
            "Recall rf (Treino): 0.9611691540643019\n",
            "Recall rf (Teste): 0.7817930381100822\n",
            "====================================\n",
            "F1-Score rf (Treino): 0.9464752651443198\n",
            "F1-Score rf (Teste): 0.7561097823865661\n"
          ]
        }
      ],
      "source": [
        "print(f\"Acurácia rf (Treino): {accuracy_score(y_train, rf.predict(x_train))}\")\n",
        "print(f\"Acurácia rf (Teste): {accuracy_score(y_test, rf.predict(x_test))}\")\n",
        "print(\"====================================\")\n",
        "print(f\"Precision rf (Treino): {precision_score(y_train, rf.predict(x_train), average='macro')}\")\n",
        "print(f\"Precision rf (Teste): {precision_score(y_test, rf.predict(x_test), average='macro')}\")\n",
        "print(\"====================================\")\n",
        "print(f\"Recall rf (Treino): {recall_score(y_train, rf.predict(x_train), average='macro')}\")\n",
        "print(f\"Recall rf (Teste): {recall_score(y_test, rf.predict(x_test), average='macro')}\")\n",
        "print(\"====================================\")\n",
        "print(f\"F1-Score rf (Treino): {f1_score(y_train, rf.predict(x_train), average='macro')}\")\n",
        "print(f\"F1-Score rf (Teste): {f1_score(y_test, rf.predict(x_test), average='macro')}\")"
      ]
    },
    {
      "cell_type": "code",
      "execution_count": null,
      "metadata": {
        "id": "E524uZCDEf8Z",
        "outputId": "212dc3a4-295b-4a8a-eff2-a1bf2e08545a"
      },
      "outputs": [
        {
          "name": "stdout",
          "output_type": "stream",
          "text": [
            "valor: 53.993619%\n",
            "dias_cad_verif: 38.320980%\n",
            "limite_profissionais: 3.949116%\n",
            "tier_1_MICRO: 1.944177%\n",
            "tier_3_MEDIUM: 1.094280%\n",
            "tier_2_SMALL: 0.498919%\n",
            "pagamento_online: 0.100036%\n",
            "tier_4_LARGE: 0.097549%\n",
            "tier_5_ENTERPRISE: 0.000991%\n",
            "avecpay_id: 0.000333%\n"
          ]
        }
      ],
      "source": [
        "\n",
        "features_importance = zip(rf.feature_importances_, x_features)\n",
        "for importance, feature in sorted(features_importance, reverse=True):\n",
        "    print(\"%s: %f%%\" % (feature, importance*100))"
      ]
    },
    {
      "cell_type": "markdown",
      "metadata": {
        "id": "GnMGZoZtRq6A"
      },
      "source": [
        "#### Optimization and Saving Model"
      ]
    },
    {
      "cell_type": "code",
      "execution_count": null,
      "metadata": {
        "id": "HOqcL6mNF5-K",
        "outputId": "0c7d9d4b-2551-427e-fb1e-daa8c10b5b4c"
      },
      "outputs": [
        {
          "data": {
            "text/html": [
              "<style>#sk-container-id-19 {color: black;background-color: white;}#sk-container-id-19 pre{padding: 0;}#sk-container-id-19 div.sk-toggleable {background-color: white;}#sk-container-id-19 label.sk-toggleable__label {cursor: pointer;display: block;width: 100%;margin-bottom: 0;padding: 0.3em;box-sizing: border-box;text-align: center;}#sk-container-id-19 label.sk-toggleable__label-arrow:before {content: \"▸\";float: left;margin-right: 0.25em;color: #696969;}#sk-container-id-19 label.sk-toggleable__label-arrow:hover:before {color: black;}#sk-container-id-19 div.sk-estimator:hover label.sk-toggleable__label-arrow:before {color: black;}#sk-container-id-19 div.sk-toggleable__content {max-height: 0;max-width: 0;overflow: hidden;text-align: left;background-color: #f0f8ff;}#sk-container-id-19 div.sk-toggleable__content pre {margin: 0.2em;color: black;border-radius: 0.25em;background-color: #f0f8ff;}#sk-container-id-19 input.sk-toggleable__control:checked~div.sk-toggleable__content {max-height: 200px;max-width: 100%;overflow: auto;}#sk-container-id-19 input.sk-toggleable__control:checked~label.sk-toggleable__label-arrow:before {content: \"▾\";}#sk-container-id-19 div.sk-estimator input.sk-toggleable__control:checked~label.sk-toggleable__label {background-color: #d4ebff;}#sk-container-id-19 div.sk-label input.sk-toggleable__control:checked~label.sk-toggleable__label {background-color: #d4ebff;}#sk-container-id-19 input.sk-hidden--visually {border: 0;clip: rect(1px 1px 1px 1px);clip: rect(1px, 1px, 1px, 1px);height: 1px;margin: -1px;overflow: hidden;padding: 0;position: absolute;width: 1px;}#sk-container-id-19 div.sk-estimator {font-family: monospace;background-color: #f0f8ff;border: 1px dotted black;border-radius: 0.25em;box-sizing: border-box;margin-bottom: 0.5em;}#sk-container-id-19 div.sk-estimator:hover {background-color: #d4ebff;}#sk-container-id-19 div.sk-parallel-item::after {content: \"\";width: 100%;border-bottom: 1px solid gray;flex-grow: 1;}#sk-container-id-19 div.sk-label:hover label.sk-toggleable__label {background-color: #d4ebff;}#sk-container-id-19 div.sk-serial::before {content: \"\";position: absolute;border-left: 1px solid gray;box-sizing: border-box;top: 0;bottom: 0;left: 50%;z-index: 0;}#sk-container-id-19 div.sk-serial {display: flex;flex-direction: column;align-items: center;background-color: white;padding-right: 0.2em;padding-left: 0.2em;position: relative;}#sk-container-id-19 div.sk-item {position: relative;z-index: 1;}#sk-container-id-19 div.sk-parallel {display: flex;align-items: stretch;justify-content: center;background-color: white;position: relative;}#sk-container-id-19 div.sk-item::before, #sk-container-id-19 div.sk-parallel-item::before {content: \"\";position: absolute;border-left: 1px solid gray;box-sizing: border-box;top: 0;bottom: 0;left: 50%;z-index: -1;}#sk-container-id-19 div.sk-parallel-item {display: flex;flex-direction: column;z-index: 1;position: relative;background-color: white;}#sk-container-id-19 div.sk-parallel-item:first-child::after {align-self: flex-end;width: 50%;}#sk-container-id-19 div.sk-parallel-item:last-child::after {align-self: flex-start;width: 50%;}#sk-container-id-19 div.sk-parallel-item:only-child::after {width: 0;}#sk-container-id-19 div.sk-dashed-wrapped {border: 1px dashed gray;margin: 0 0.4em 0.5em 0.4em;box-sizing: border-box;padding-bottom: 0.4em;background-color: white;}#sk-container-id-19 div.sk-label label {font-family: monospace;font-weight: bold;display: inline-block;line-height: 1.2em;}#sk-container-id-19 div.sk-label-container {text-align: center;}#sk-container-id-19 div.sk-container {/* jupyter's `normalize.less` sets `[hidden] { display: none; }` but bootstrap.min.css set `[hidden] { display: none !important; }` so we also need the `!important` here to be able to override the default hidden behavior on the sphinx rendered scikit-learn.org. See: https://github.com/scikit-learn/scikit-learn/issues/21755 */display: inline-block !important;position: relative;}#sk-container-id-19 div.sk-text-repr-fallback {display: none;}</style><div id=\"sk-container-id-19\" class=\"sk-top-container\"><div class=\"sk-text-repr-fallback\"><pre>GridSearchCV(estimator=RandomForestClassifier(random_state=42), n_jobs=-1,\n",
              "             param_grid={&#x27;bootstrap&#x27;: [False, True],\n",
              "                         &#x27;criterion&#x27;: [&#x27;gini&#x27;, &#x27;entropy&#x27;, &#x27;log_loss&#x27;],\n",
              "                         &#x27;max_depth&#x27;: [3, 5, 10, None],\n",
              "                         &#x27;max_features&#x27;: [&#x27;sqrt&#x27;, &#x27;log2&#x27;, None],\n",
              "                         &#x27;n_estimators&#x27;: [50, 75, 100]},\n",
              "             scoring=&#x27;f1_macro&#x27;)</pre><b>In a Jupyter environment, please rerun this cell to show the HTML representation or trust the notebook. <br />On GitHub, the HTML representation is unable to render, please try loading this page with nbviewer.org.</b></div><div class=\"sk-container\" hidden><div class=\"sk-item sk-dashed-wrapped\"><div class=\"sk-label-container\"><div class=\"sk-label sk-toggleable\"><input class=\"sk-toggleable__control sk-hidden--visually\" id=\"sk-estimator-id-21\" type=\"checkbox\" ><label for=\"sk-estimator-id-21\" class=\"sk-toggleable__label sk-toggleable__label-arrow\">GridSearchCV</label><div class=\"sk-toggleable__content\"><pre>GridSearchCV(estimator=RandomForestClassifier(random_state=42), n_jobs=-1,\n",
              "             param_grid={&#x27;bootstrap&#x27;: [False, True],\n",
              "                         &#x27;criterion&#x27;: [&#x27;gini&#x27;, &#x27;entropy&#x27;, &#x27;log_loss&#x27;],\n",
              "                         &#x27;max_depth&#x27;: [3, 5, 10, None],\n",
              "                         &#x27;max_features&#x27;: [&#x27;sqrt&#x27;, &#x27;log2&#x27;, None],\n",
              "                         &#x27;n_estimators&#x27;: [50, 75, 100]},\n",
              "             scoring=&#x27;f1_macro&#x27;)</pre></div></div></div><div class=\"sk-parallel\"><div class=\"sk-parallel-item\"><div class=\"sk-item\"><div class=\"sk-label-container\"><div class=\"sk-label sk-toggleable\"><input class=\"sk-toggleable__control sk-hidden--visually\" id=\"sk-estimator-id-22\" type=\"checkbox\" ><label for=\"sk-estimator-id-22\" class=\"sk-toggleable__label sk-toggleable__label-arrow\">estimator: RandomForestClassifier</label><div class=\"sk-toggleable__content\"><pre>RandomForestClassifier(random_state=42)</pre></div></div></div><div class=\"sk-serial\"><div class=\"sk-item\"><div class=\"sk-estimator sk-toggleable\"><input class=\"sk-toggleable__control sk-hidden--visually\" id=\"sk-estimator-id-23\" type=\"checkbox\" ><label for=\"sk-estimator-id-23\" class=\"sk-toggleable__label sk-toggleable__label-arrow\">RandomForestClassifier</label><div class=\"sk-toggleable__content\"><pre>RandomForestClassifier(random_state=42)</pre></div></div></div></div></div></div></div></div></div></div>"
            ],
            "text/plain": [
              "GridSearchCV(estimator=RandomForestClassifier(random_state=42), n_jobs=-1,\n",
              "             param_grid={'bootstrap': [False, True],\n",
              "                         'criterion': ['gini', 'entropy', 'log_loss'],\n",
              "                         'max_depth': [3, 5, 10, None],\n",
              "                         'max_features': ['sqrt', 'log2', None],\n",
              "                         'n_estimators': [50, 75, 100]},\n",
              "             scoring='f1_macro')"
            ]
          },
          "execution_count": 285,
          "metadata": {},
          "output_type": "execute_result"
        }
      ],
      "source": [
        "# parameters = {\n",
        "#     \"criterion\": ['gini', 'entropy', 'log_loss'],\n",
        "#     \"n_estimators\": [50, 75, 100],\n",
        "#     \"bootstrap\": [False, True],\n",
        "#     \"max_depth\": [3, 5, 10, None],\n",
        "#     \"max_features\": ['sqrt', 'log2', None]\n",
        "# }\n",
        "\n",
        "# grid_search = GridSearchCV(rf, parameters, scoring='f1_macro', n_jobs=-1)\n",
        "# grid_search.fit(x_res, y_res)"
      ]
    },
    {
      "cell_type": "code",
      "execution_count": null,
      "metadata": {
        "id": "YsdVwIUBF8xB",
        "outputId": "7aa80344-ddda-4c1a-a5cf-6d612aa5acb9"
      },
      "outputs": [
        {
          "name": "stdout",
          "output_type": "stream",
          "text": [
            " Results from Grid Search \n",
            "\n",
            " The best estimator across ALL searched params:\n",
            " RandomForestClassifier(criterion='entropy', max_features=None, random_state=42)\n",
            "\n",
            " The best score across ALL searched params:\n",
            " 0.851649890825653\n",
            "\n",
            " The best parameters across ALL searched params:\n",
            " {'bootstrap': True, 'criterion': 'entropy', 'max_depth': None, 'max_features': None, 'n_estimators': 100}\n"
          ]
        }
      ],
      "source": [
        "# print(\" Results from Grid Search \" )\n",
        "# print(\"\\n The best estimator across ALL searched params:\\n\",grid_search.best_estimator_)\n",
        "# print(\"\\n The best score across ALL searched params:\\n\",grid_search.best_score_)\n",
        "# print(\"\\n The best parameters across ALL searched params:\\n\",grid_search.best_params_)"
      ]
    },
    {
      "cell_type": "code",
      "execution_count": null,
      "metadata": {
        "id": "bZYl_IzDEf8a",
        "outputId": "71b75ff3-41ed-4a0a-a6e4-5d44511782e8"
      },
      "outputs": [
        {
          "data": {
            "text/html": [
              "<style>#sk-container-id-20 {color: black;background-color: white;}#sk-container-id-20 pre{padding: 0;}#sk-container-id-20 div.sk-toggleable {background-color: white;}#sk-container-id-20 label.sk-toggleable__label {cursor: pointer;display: block;width: 100%;margin-bottom: 0;padding: 0.3em;box-sizing: border-box;text-align: center;}#sk-container-id-20 label.sk-toggleable__label-arrow:before {content: \"▸\";float: left;margin-right: 0.25em;color: #696969;}#sk-container-id-20 label.sk-toggleable__label-arrow:hover:before {color: black;}#sk-container-id-20 div.sk-estimator:hover label.sk-toggleable__label-arrow:before {color: black;}#sk-container-id-20 div.sk-toggleable__content {max-height: 0;max-width: 0;overflow: hidden;text-align: left;background-color: #f0f8ff;}#sk-container-id-20 div.sk-toggleable__content pre {margin: 0.2em;color: black;border-radius: 0.25em;background-color: #f0f8ff;}#sk-container-id-20 input.sk-toggleable__control:checked~div.sk-toggleable__content {max-height: 200px;max-width: 100%;overflow: auto;}#sk-container-id-20 input.sk-toggleable__control:checked~label.sk-toggleable__label-arrow:before {content: \"▾\";}#sk-container-id-20 div.sk-estimator input.sk-toggleable__control:checked~label.sk-toggleable__label {background-color: #d4ebff;}#sk-container-id-20 div.sk-label input.sk-toggleable__control:checked~label.sk-toggleable__label {background-color: #d4ebff;}#sk-container-id-20 input.sk-hidden--visually {border: 0;clip: rect(1px 1px 1px 1px);clip: rect(1px, 1px, 1px, 1px);height: 1px;margin: -1px;overflow: hidden;padding: 0;position: absolute;width: 1px;}#sk-container-id-20 div.sk-estimator {font-family: monospace;background-color: #f0f8ff;border: 1px dotted black;border-radius: 0.25em;box-sizing: border-box;margin-bottom: 0.5em;}#sk-container-id-20 div.sk-estimator:hover {background-color: #d4ebff;}#sk-container-id-20 div.sk-parallel-item::after {content: \"\";width: 100%;border-bottom: 1px solid gray;flex-grow: 1;}#sk-container-id-20 div.sk-label:hover label.sk-toggleable__label {background-color: #d4ebff;}#sk-container-id-20 div.sk-serial::before {content: \"\";position: absolute;border-left: 1px solid gray;box-sizing: border-box;top: 0;bottom: 0;left: 50%;z-index: 0;}#sk-container-id-20 div.sk-serial {display: flex;flex-direction: column;align-items: center;background-color: white;padding-right: 0.2em;padding-left: 0.2em;position: relative;}#sk-container-id-20 div.sk-item {position: relative;z-index: 1;}#sk-container-id-20 div.sk-parallel {display: flex;align-items: stretch;justify-content: center;background-color: white;position: relative;}#sk-container-id-20 div.sk-item::before, #sk-container-id-20 div.sk-parallel-item::before {content: \"\";position: absolute;border-left: 1px solid gray;box-sizing: border-box;top: 0;bottom: 0;left: 50%;z-index: -1;}#sk-container-id-20 div.sk-parallel-item {display: flex;flex-direction: column;z-index: 1;position: relative;background-color: white;}#sk-container-id-20 div.sk-parallel-item:first-child::after {align-self: flex-end;width: 50%;}#sk-container-id-20 div.sk-parallel-item:last-child::after {align-self: flex-start;width: 50%;}#sk-container-id-20 div.sk-parallel-item:only-child::after {width: 0;}#sk-container-id-20 div.sk-dashed-wrapped {border: 1px dashed gray;margin: 0 0.4em 0.5em 0.4em;box-sizing: border-box;padding-bottom: 0.4em;background-color: white;}#sk-container-id-20 div.sk-label label {font-family: monospace;font-weight: bold;display: inline-block;line-height: 1.2em;}#sk-container-id-20 div.sk-label-container {text-align: center;}#sk-container-id-20 div.sk-container {/* jupyter's `normalize.less` sets `[hidden] { display: none; }` but bootstrap.min.css set `[hidden] { display: none !important; }` so we also need the `!important` here to be able to override the default hidden behavior on the sphinx rendered scikit-learn.org. See: https://github.com/scikit-learn/scikit-learn/issues/21755 */display: inline-block !important;position: relative;}#sk-container-id-20 div.sk-text-repr-fallback {display: none;}</style><div id=\"sk-container-id-20\" class=\"sk-top-container\"><div class=\"sk-text-repr-fallback\"><pre>RandomForestClassifier(criterion=&#x27;entropy&#x27;, max_features=None, random_state=42)</pre><b>In a Jupyter environment, please rerun this cell to show the HTML representation or trust the notebook. <br />On GitHub, the HTML representation is unable to render, please try loading this page with nbviewer.org.</b></div><div class=\"sk-container\" hidden><div class=\"sk-item\"><div class=\"sk-estimator sk-toggleable\"><input class=\"sk-toggleable__control sk-hidden--visually\" id=\"sk-estimator-id-24\" type=\"checkbox\" checked><label for=\"sk-estimator-id-24\" class=\"sk-toggleable__label sk-toggleable__label-arrow\">RandomForestClassifier</label><div class=\"sk-toggleable__content\"><pre>RandomForestClassifier(criterion=&#x27;entropy&#x27;, max_features=None, random_state=42)</pre></div></div></div></div></div>"
            ],
            "text/plain": [
              "RandomForestClassifier(criterion='entropy', max_features=None, random_state=42)"
            ]
          },
          "execution_count": 288,
          "metadata": {},
          "output_type": "execute_result"
        }
      ],
      "source": [
        "rf_tunned = RandomForestClassifier(random_state=42,\n",
        "                                    bootstrap=True,\n",
        "                                    criterion='entropy',\n",
        "                                    max_depth=None,\n",
        "                                    max_features=None,\n",
        "                                    n_estimators=100)\n",
        "rf_tunned.fit(x_res, y_res)"
      ]
    },
    {
      "cell_type": "code",
      "execution_count": null,
      "metadata": {
        "id": "CKBR6nxlEf8a",
        "outputId": "a6a9e7c5-6eb8-4f21-8365-1724064f5b7b"
      },
      "outputs": [
        {
          "name": "stdout",
          "output_type": "stream",
          "text": [
            "Acurácia rf_tunned (Treino): 0.9602770580806437\n",
            "Acurácia rf_tunned (Teste): 0.835561091196306\n",
            "====================================\n",
            "Precision rf_tunned (Treino): 0.9344668610223001\n",
            "Precision rf_tunned (Teste): 0.7721798163028639\n",
            "====================================\n",
            "Recall rf_tunned (Treino): 0.9606256423356103\n",
            "Recall rf_tunned (Teste): 0.8090316257297563\n",
            "====================================\n",
            "F1-Score rf_tunned (Treino): 0.9465782947810915\n",
            "F1-Score rf_tunned (Teste): 0.7867807462348533\n"
          ]
        }
      ],
      "source": [
        "print(f\"Acurácia rf_tunned (Treino): {accuracy_score(y_train, rf_tunned.predict(x_train))}\")\n",
        "print(f\"Acurácia rf_tunned (Teste): {accuracy_score(y_test, rf_tunned.predict(x_test))}\")\n",
        "print(\"====================================\")\n",
        "print(f\"Precision rf_tunned (Treino): {precision_score(y_train, rf_tunned.predict(x_train), average='macro')}\")\n",
        "print(f\"Precision rf_tunned (Teste): {precision_score(y_test, rf_tunned.predict(x_test), average='macro')}\")\n",
        "print(\"====================================\")\n",
        "print(f\"Recall rf_tunned (Treino): {recall_score(y_train, rf_tunned.predict(x_train), average='macro')}\")\n",
        "print(f\"Recall rf_tunned (Teste): {recall_score(y_test, rf_tunned.predict(x_test), average='macro')}\")\n",
        "print(\"====================================\")\n",
        "print(f\"F1-Score rf_tunned (Treino): {f1_score(y_train, rf_tunned.predict(x_train), average='macro')}\")\n",
        "print(f\"F1-Score rf_tunned (Teste): {f1_score(y_test, rf_tunned.predict(x_test), average='macro')}\")"
      ]
    },
    {
      "cell_type": "code",
      "execution_count": null,
      "metadata": {
        "id": "2ocwiwsSRuMW"
      },
      "outputs": [],
      "source": [
        "import pickle\n",
        "\n",
        "with open('churn_model.pkl', 'wb') as file:\n",
        "  pickle.dump(rf, file)"
      ]
    },
    {
      "cell_type": "code",
      "execution_count": null,
      "metadata": {
        "id": "ApaTGCKCEf8b"
      },
      "outputs": [],
      "source": [
        "with open('churn_model_tunned.pkl', 'wb') as file:\n",
        "  pickle.dump(rf_tunned, file)"
      ]
    },
    {
      "cell_type": "markdown",
      "metadata": {
        "id": "N5paQnaU8lu3"
      },
      "source": [
        "### XGBClassifier"
      ]
    },
    {
      "cell_type": "code",
      "execution_count": null,
      "metadata": {
        "colab": {
          "base_uri": "https://localhost:8080/",
          "height": 249
        },
        "id": "qZBGWyAb8khc",
        "outputId": "0134b015-5f69-4968-cffe-239e9fe2f1c5"
      },
      "outputs": [
        {
          "data": {
            "text/html": [
              "<style>#sk-container-id-21 {color: black;background-color: white;}#sk-container-id-21 pre{padding: 0;}#sk-container-id-21 div.sk-toggleable {background-color: white;}#sk-container-id-21 label.sk-toggleable__label {cursor: pointer;display: block;width: 100%;margin-bottom: 0;padding: 0.3em;box-sizing: border-box;text-align: center;}#sk-container-id-21 label.sk-toggleable__label-arrow:before {content: \"▸\";float: left;margin-right: 0.25em;color: #696969;}#sk-container-id-21 label.sk-toggleable__label-arrow:hover:before {color: black;}#sk-container-id-21 div.sk-estimator:hover label.sk-toggleable__label-arrow:before {color: black;}#sk-container-id-21 div.sk-toggleable__content {max-height: 0;max-width: 0;overflow: hidden;text-align: left;background-color: #f0f8ff;}#sk-container-id-21 div.sk-toggleable__content pre {margin: 0.2em;color: black;border-radius: 0.25em;background-color: #f0f8ff;}#sk-container-id-21 input.sk-toggleable__control:checked~div.sk-toggleable__content {max-height: 200px;max-width: 100%;overflow: auto;}#sk-container-id-21 input.sk-toggleable__control:checked~label.sk-toggleable__label-arrow:before {content: \"▾\";}#sk-container-id-21 div.sk-estimator input.sk-toggleable__control:checked~label.sk-toggleable__label {background-color: #d4ebff;}#sk-container-id-21 div.sk-label input.sk-toggleable__control:checked~label.sk-toggleable__label {background-color: #d4ebff;}#sk-container-id-21 input.sk-hidden--visually {border: 0;clip: rect(1px 1px 1px 1px);clip: rect(1px, 1px, 1px, 1px);height: 1px;margin: -1px;overflow: hidden;padding: 0;position: absolute;width: 1px;}#sk-container-id-21 div.sk-estimator {font-family: monospace;background-color: #f0f8ff;border: 1px dotted black;border-radius: 0.25em;box-sizing: border-box;margin-bottom: 0.5em;}#sk-container-id-21 div.sk-estimator:hover {background-color: #d4ebff;}#sk-container-id-21 div.sk-parallel-item::after {content: \"\";width: 100%;border-bottom: 1px solid gray;flex-grow: 1;}#sk-container-id-21 div.sk-label:hover label.sk-toggleable__label {background-color: #d4ebff;}#sk-container-id-21 div.sk-serial::before {content: \"\";position: absolute;border-left: 1px solid gray;box-sizing: border-box;top: 0;bottom: 0;left: 50%;z-index: 0;}#sk-container-id-21 div.sk-serial {display: flex;flex-direction: column;align-items: center;background-color: white;padding-right: 0.2em;padding-left: 0.2em;position: relative;}#sk-container-id-21 div.sk-item {position: relative;z-index: 1;}#sk-container-id-21 div.sk-parallel {display: flex;align-items: stretch;justify-content: center;background-color: white;position: relative;}#sk-container-id-21 div.sk-item::before, #sk-container-id-21 div.sk-parallel-item::before {content: \"\";position: absolute;border-left: 1px solid gray;box-sizing: border-box;top: 0;bottom: 0;left: 50%;z-index: -1;}#sk-container-id-21 div.sk-parallel-item {display: flex;flex-direction: column;z-index: 1;position: relative;background-color: white;}#sk-container-id-21 div.sk-parallel-item:first-child::after {align-self: flex-end;width: 50%;}#sk-container-id-21 div.sk-parallel-item:last-child::after {align-self: flex-start;width: 50%;}#sk-container-id-21 div.sk-parallel-item:only-child::after {width: 0;}#sk-container-id-21 div.sk-dashed-wrapped {border: 1px dashed gray;margin: 0 0.4em 0.5em 0.4em;box-sizing: border-box;padding-bottom: 0.4em;background-color: white;}#sk-container-id-21 div.sk-label label {font-family: monospace;font-weight: bold;display: inline-block;line-height: 1.2em;}#sk-container-id-21 div.sk-label-container {text-align: center;}#sk-container-id-21 div.sk-container {/* jupyter's `normalize.less` sets `[hidden] { display: none; }` but bootstrap.min.css set `[hidden] { display: none !important; }` so we also need the `!important` here to be able to override the default hidden behavior on the sphinx rendered scikit-learn.org. See: https://github.com/scikit-learn/scikit-learn/issues/21755 */display: inline-block !important;position: relative;}#sk-container-id-21 div.sk-text-repr-fallback {display: none;}</style><div id=\"sk-container-id-21\" class=\"sk-top-container\"><div class=\"sk-text-repr-fallback\"><pre>XGBClassifier(base_score=None, booster=None, callbacks=None,\n",
              "              colsample_bylevel=None, colsample_bynode=None,\n",
              "              colsample_bytree=None, early_stopping_rounds=None,\n",
              "              enable_categorical=False, eval_metric=None, feature_types=None,\n",
              "              gamma=None, gpu_id=None, grow_policy=None, importance_type=None,\n",
              "              interaction_constraints=None, learning_rate=None, max_bin=None,\n",
              "              max_cat_threshold=None, max_cat_to_onehot=None,\n",
              "              max_delta_step=None, max_depth=None, max_leaves=None,\n",
              "              min_child_weight=None, missing=nan, monotone_constraints=None,\n",
              "              n_estimators=100, n_jobs=None, num_parallel_tree=None,\n",
              "              predictor=None, random_state=42, ...)</pre><b>In a Jupyter environment, please rerun this cell to show the HTML representation or trust the notebook. <br />On GitHub, the HTML representation is unable to render, please try loading this page with nbviewer.org.</b></div><div class=\"sk-container\" hidden><div class=\"sk-item\"><div class=\"sk-estimator sk-toggleable\"><input class=\"sk-toggleable__control sk-hidden--visually\" id=\"sk-estimator-id-25\" type=\"checkbox\" checked><label for=\"sk-estimator-id-25\" class=\"sk-toggleable__label sk-toggleable__label-arrow\">XGBClassifier</label><div class=\"sk-toggleable__content\"><pre>XGBClassifier(base_score=None, booster=None, callbacks=None,\n",
              "              colsample_bylevel=None, colsample_bynode=None,\n",
              "              colsample_bytree=None, early_stopping_rounds=None,\n",
              "              enable_categorical=False, eval_metric=None, feature_types=None,\n",
              "              gamma=None, gpu_id=None, grow_policy=None, importance_type=None,\n",
              "              interaction_constraints=None, learning_rate=None, max_bin=None,\n",
              "              max_cat_threshold=None, max_cat_to_onehot=None,\n",
              "              max_delta_step=None, max_depth=None, max_leaves=None,\n",
              "              min_child_weight=None, missing=nan, monotone_constraints=None,\n",
              "              n_estimators=100, n_jobs=None, num_parallel_tree=None,\n",
              "              predictor=None, random_state=42, ...)</pre></div></div></div></div></div>"
            ],
            "text/plain": [
              "XGBClassifier(base_score=None, booster=None, callbacks=None,\n",
              "              colsample_bylevel=None, colsample_bynode=None,\n",
              "              colsample_bytree=None, early_stopping_rounds=None,\n",
              "              enable_categorical=False, eval_metric=None, feature_types=None,\n",
              "              gamma=None, gpu_id=None, grow_policy=None, importance_type=None,\n",
              "              interaction_constraints=None, learning_rate=None, max_bin=None,\n",
              "              max_cat_threshold=None, max_cat_to_onehot=None,\n",
              "              max_delta_step=None, max_depth=None, max_leaves=None,\n",
              "              min_child_weight=None, missing=nan, monotone_constraints=None,\n",
              "              n_estimators=100, n_jobs=None, num_parallel_tree=None,\n",
              "              predictor=None, random_state=42, ...)"
            ]
          },
          "execution_count": 291,
          "metadata": {},
          "output_type": "execute_result"
        }
      ],
      "source": [
        "xgb = XGBClassifier(random_state=42)\n",
        "xgb.fit(x_res, y_res)"
      ]
    },
    {
      "cell_type": "markdown",
      "metadata": {
        "id": "Bc1JBnMe9hVF"
      },
      "source": [
        "#### Avaliação do Modelo XGBC"
      ]
    },
    {
      "cell_type": "code",
      "execution_count": null,
      "metadata": {
        "colab": {
          "base_uri": "https://localhost:8080/"
        },
        "id": "zDbuYC969Wa9",
        "outputId": "dcff49ae-75a7-4dc1-ade0-eaf2dd58e72d"
      },
      "outputs": [
        {
          "data": {
            "text/plain": [
              "array([0, 1])"
            ]
          },
          "execution_count": 292,
          "metadata": {},
          "output_type": "execute_result"
        }
      ],
      "source": [
        "xgb_pred = pd.DataFrame(xgb.predict(x_test), columns=['status_churn'])\n",
        "xgb_pred.status_churn.unique()"
      ]
    },
    {
      "cell_type": "code",
      "execution_count": null,
      "metadata": {
        "colab": {
          "base_uri": "https://localhost:8080/"
        },
        "id": "EBH7AzD99YOO",
        "outputId": "62be73e0-aced-4b81-9e26-d209c97a5f60"
      },
      "outputs": [
        {
          "data": {
            "text/plain": [
              "0    21394\n",
              "1    11524\n",
              "Name: status_churn, dtype: int64"
            ]
          },
          "execution_count": 293,
          "metadata": {},
          "output_type": "execute_result"
        }
      ],
      "source": [
        "xgb_pred.status_churn.value_counts()"
      ]
    },
    {
      "cell_type": "code",
      "execution_count": null,
      "metadata": {
        "id": "kbnzhah2Ef8c",
        "outputId": "570d31fa-cf55-4053-9a02-d9fe87928d97"
      },
      "outputs": [
        {
          "data": {
            "image/png": "[encoded data removed]",
            "text/plain": [
              "<Figure size 640x480 with 2 Axes>"
            ]
          },
          "metadata": {},
          "output_type": "display_data"
        }
      ],
      "source": [
        "cm = confusion_matrix(y_test, xgb_pred, labels=xgb.classes_)\n",
        "# disp = ConfusionMatrixDisplay(confusion_matrix=cm, display_labels=rf.classes_)\n",
        "# disp.plot()\n",
        "# plt.show()\n",
        "sns.heatmap(cm/np.sum(cm), annot=True, fmt='.2%', cmap='Greens')\n",
        "plt.show()"
      ]
    },
    {
      "cell_type": "code",
      "execution_count": null,
      "metadata": {
        "colab": {
          "base_uri": "https://localhost:8080/"
        },
        "id": "_LUScp0B9ks3",
        "outputId": "839fd0c1-a72e-4a38-ebce-7337887257f5"
      },
      "outputs": [
        {
          "name": "stdout",
          "output_type": "stream",
          "text": [
            "Acurácia XGB (Treino): 0.8203418959209448\n",
            "Acurácia XGB (Teste): 0.8083723190959353\n",
            "====================================\n",
            "Precision XGB (Treino): 0.7646953750048386\n",
            "Precision XGB (Teste): 0.751651418192912\n",
            "====================================\n",
            "Recall XGB (Treino): 0.8332735120457596\n",
            "Recall XGB (Teste): 0.818142577812127\n",
            "====================================\n",
            "F1-Score XGB (Treino): 0.7828914817794235\n",
            "F1-Score XGB (Teste): 0.7686081501701894\n"
          ]
        }
      ],
      "source": [
        "print(f\"Acurácia XGB (Treino): {accuracy_score(y_train, xgb.predict(x_train))}\")\n",
        "print(f\"Acurácia XGB (Teste): {accuracy_score(y_test, xgb.predict(x_test))}\")\n",
        "print(\"====================================\")\n",
        "print(f\"Precision XGB (Treino): {precision_score(y_train, xgb.predict(x_train), average='macro')}\")\n",
        "print(f\"Precision XGB (Teste): {precision_score(y_test, xgb.predict(x_test), average='macro')}\")\n",
        "print(\"====================================\")\n",
        "print(f\"Recall XGB (Treino): {recall_score(y_train, xgb.predict(x_train), average='macro')}\")\n",
        "print(f\"Recall XGB (Teste): {recall_score(y_test, xgb.predict(x_test), average='macro')}\")\n",
        "print(\"====================================\")\n",
        "print(f\"F1-Score XGB (Treino): {f1_score(y_train, xgb.predict(x_train), average='macro')}\")\n",
        "print(f\"F1-Score XGB (Teste): {f1_score(y_test, xgb.predict(x_test), average='macro')}\")"
      ]
    },
    {
      "cell_type": "code",
      "execution_count": null,
      "metadata": {
        "id": "ndkmfc1tEf8d",
        "outputId": "6296b107-6df4-4d18-e903-2e2f901c7116"
      },
      "outputs": [
        {
          "name": "stdout",
          "output_type": "stream",
          "text": [
            "valor: 33.317906%\n",
            "dias_cad_verif: 19.775422%\n",
            "limite_profissionais: 13.140428%\n",
            "tier_1_MICRO: 10.810388%\n",
            "pagamento_online: 9.424493%\n",
            "tier_2_SMALL: 5.308589%\n",
            "tier_3_MEDIUM: 4.962548%\n",
            "tier_4_LARGE: 3.260224%\n",
            "tier_5_ENTERPRISE: 0.000000%\n",
            "avecpay_id: 0.000000%\n"
          ]
        }
      ],
      "source": [
        "features_importance = zip(xgb.feature_importances_, x_features)\n",
        "for importance, feature in sorted(features_importance, reverse=True):\n",
        "    print(\"%s: %f%%\" % (feature, importance*100))"
      ]
    },
    {
      "cell_type": "markdown",
      "metadata": {
        "id": "BrVRfkIiEf8d"
      },
      "source": [
        "### AdaBoost"
      ]
    },
    {
      "cell_type": "code",
      "execution_count": null,
      "metadata": {
        "id": "W8JjxQdZEf8d",
        "outputId": "1807e0a7-7126-42de-8f10-c764718151d4"
      },
      "outputs": [
        {
          "data": {
            "text/html": [
              "<style>#sk-container-id-22 {color: black;background-color: white;}#sk-container-id-22 pre{padding: 0;}#sk-container-id-22 div.sk-toggleable {background-color: white;}#sk-container-id-22 label.sk-toggleable__label {cursor: pointer;display: block;width: 100%;margin-bottom: 0;padding: 0.3em;box-sizing: border-box;text-align: center;}#sk-container-id-22 label.sk-toggleable__label-arrow:before {content: \"▸\";float: left;margin-right: 0.25em;color: #696969;}#sk-container-id-22 label.sk-toggleable__label-arrow:hover:before {color: black;}#sk-container-id-22 div.sk-estimator:hover label.sk-toggleable__label-arrow:before {color: black;}#sk-container-id-22 div.sk-toggleable__content {max-height: 0;max-width: 0;overflow: hidden;text-align: left;background-color: #f0f8ff;}#sk-container-id-22 div.sk-toggleable__content pre {margin: 0.2em;color: black;border-radius: 0.25em;background-color: #f0f8ff;}#sk-container-id-22 input.sk-toggleable__control:checked~div.sk-toggleable__content {max-height: 200px;max-width: 100%;overflow: auto;}#sk-container-id-22 input.sk-toggleable__control:checked~label.sk-toggleable__label-arrow:before {content: \"▾\";}#sk-container-id-22 div.sk-estimator input.sk-toggleable__control:checked~label.sk-toggleable__label {background-color: #d4ebff;}#sk-container-id-22 div.sk-label input.sk-toggleable__control:checked~label.sk-toggleable__label {background-color: #d4ebff;}#sk-container-id-22 input.sk-hidden--visually {border: 0;clip: rect(1px 1px 1px 1px);clip: rect(1px, 1px, 1px, 1px);height: 1px;margin: -1px;overflow: hidden;padding: 0;position: absolute;width: 1px;}#sk-container-id-22 div.sk-estimator {font-family: monospace;background-color: #f0f8ff;border: 1px dotted black;border-radius: 0.25em;box-sizing: border-box;margin-bottom: 0.5em;}#sk-container-id-22 div.sk-estimator:hover {background-color: #d4ebff;}#sk-container-id-22 div.sk-parallel-item::after {content: \"\";width: 100%;border-bottom: 1px solid gray;flex-grow: 1;}#sk-container-id-22 div.sk-label:hover label.sk-toggleable__label {background-color: #d4ebff;}#sk-container-id-22 div.sk-serial::before {content: \"\";position: absolute;border-left: 1px solid gray;box-sizing: border-box;top: 0;bottom: 0;left: 50%;z-index: 0;}#sk-container-id-22 div.sk-serial {display: flex;flex-direction: column;align-items: center;background-color: white;padding-right: 0.2em;padding-left: 0.2em;position: relative;}#sk-container-id-22 div.sk-item {position: relative;z-index: 1;}#sk-container-id-22 div.sk-parallel {display: flex;align-items: stretch;justify-content: center;background-color: white;position: relative;}#sk-container-id-22 div.sk-item::before, #sk-container-id-22 div.sk-parallel-item::before {content: \"\";position: absolute;border-left: 1px solid gray;box-sizing: border-box;top: 0;bottom: 0;left: 50%;z-index: -1;}#sk-container-id-22 div.sk-parallel-item {display: flex;flex-direction: column;z-index: 1;position: relative;background-color: white;}#sk-container-id-22 div.sk-parallel-item:first-child::after {align-self: flex-end;width: 50%;}#sk-container-id-22 div.sk-parallel-item:last-child::after {align-self: flex-start;width: 50%;}#sk-container-id-22 div.sk-parallel-item:only-child::after {width: 0;}#sk-container-id-22 div.sk-dashed-wrapped {border: 1px dashed gray;margin: 0 0.4em 0.5em 0.4em;box-sizing: border-box;padding-bottom: 0.4em;background-color: white;}#sk-container-id-22 div.sk-label label {font-family: monospace;font-weight: bold;display: inline-block;line-height: 1.2em;}#sk-container-id-22 div.sk-label-container {text-align: center;}#sk-container-id-22 div.sk-container {/* jupyter's `normalize.less` sets `[hidden] { display: none; }` but bootstrap.min.css set `[hidden] { display: none !important; }` so we also need the `!important` here to be able to override the default hidden behavior on the sphinx rendered scikit-learn.org. See: https://github.com/scikit-learn/scikit-learn/issues/21755 */display: inline-block !important;position: relative;}#sk-container-id-22 div.sk-text-repr-fallback {display: none;}</style><div id=\"sk-container-id-22\" class=\"sk-top-container\"><div class=\"sk-text-repr-fallback\"><pre>AdaBoostClassifier(random_state=42)</pre><b>In a Jupyter environment, please rerun this cell to show the HTML representation or trust the notebook. <br />On GitHub, the HTML representation is unable to render, please try loading this page with nbviewer.org.</b></div><div class=\"sk-container\" hidden><div class=\"sk-item\"><div class=\"sk-estimator sk-toggleable\"><input class=\"sk-toggleable__control sk-hidden--visually\" id=\"sk-estimator-id-26\" type=\"checkbox\" checked><label for=\"sk-estimator-id-26\" class=\"sk-toggleable__label sk-toggleable__label-arrow\">AdaBoostClassifier</label><div class=\"sk-toggleable__content\"><pre>AdaBoostClassifier(random_state=42)</pre></div></div></div></div></div>"
            ],
            "text/plain": [
              "AdaBoostClassifier(random_state=42)"
            ]
          },
          "execution_count": 297,
          "metadata": {},
          "output_type": "execute_result"
        }
      ],
      "source": [
        "abc = AdaBoostClassifier(random_state=42)\n",
        "abc.fit(x_res, y_res)"
      ]
    },
    {
      "cell_type": "markdown",
      "metadata": {
        "id": "MBqMurJoEf8e"
      },
      "source": [
        "#### Avaliação do Modelo ABC"
      ]
    },
    {
      "cell_type": "code",
      "execution_count": null,
      "metadata": {
        "id": "pgQFGNPBEf8e",
        "outputId": "738b94e7-2475-4d44-a574-36765f97eed1"
      },
      "outputs": [
        {
          "data": {
            "text/plain": [
              "array([0, 1])"
            ]
          },
          "execution_count": 298,
          "metadata": {},
          "output_type": "execute_result"
        }
      ],
      "source": [
        "abc_pred = pd.DataFrame(abc.predict(x_test), columns=['status_churn'])\n",
        "abc_pred.status_churn.unique()"
      ]
    },
    {
      "cell_type": "code",
      "execution_count": null,
      "metadata": {
        "id": "FZu6XiwvEf8e",
        "outputId": "a72dddf7-ce78-4286-d330-d4c030a9f300"
      },
      "outputs": [
        {
          "data": {
            "text/plain": [
              "0    20870\n",
              "1    12048\n",
              "Name: status_churn, dtype: int64"
            ]
          },
          "execution_count": 299,
          "metadata": {},
          "output_type": "execute_result"
        }
      ],
      "source": [
        "abc_pred.status_churn.value_counts()"
      ]
    },
    {
      "cell_type": "code",
      "execution_count": null,
      "metadata": {
        "id": "53xYGolKEf8e",
        "outputId": "d5fb3937-8732-4722-c0c4-0fbac2ac67e1"
      },
      "outputs": [
        {
          "data": {
            "image/png": "[encoded data removed]",
            "text/plain": [
              "<Figure size 640x480 with 2 Axes>"
            ]
          },
          "metadata": {},
          "output_type": "display_data"
        }
      ],
      "source": [
        "cm = confusion_matrix(y_test, abc_pred, labels=abc.classes_)\n",
        "# disp = ConfusionMatrixDisplay(confusion_matrix=cm, display_labels=rf.classes_)\n",
        "# disp.plot()\n",
        "# plt.show()\n",
        "sns.heatmap(cm/np.sum(cm), annot=True, fmt='.2%', cmap='Greens')\n",
        "plt.show()"
      ]
    },
    {
      "cell_type": "code",
      "execution_count": null,
      "metadata": {
        "id": "4VFUpKvXEf8f",
        "outputId": "4b9752cc-ae04-4e5a-84c3-b90ae2f8dcc5"
      },
      "outputs": [
        {
          "name": "stdout",
          "output_type": "stream",
          "text": [
            "Acurácia ABC (Treino): 0.7889385082088872\n",
            "Acurácia ABC (Teste): 0.7855884318609879\n",
            "====================================\n",
            "Precision ABC (Treino): 0.7351050118738673\n",
            "Precision ABC (Teste): 0.7312798757056107\n",
            "====================================\n",
            "Recall ABC (Treino): 0.8025071905618141\n",
            "Recall ABC (Teste): 0.7981964202534793\n",
            "====================================\n",
            "F1-Score ABC (Treino): 0.7492411762398398\n",
            "F1-Score ABC (Teste): 0.7450809244739436\n"
          ]
        }
      ],
      "source": [
        "print(f\"Acurácia ABC (Treino): {accuracy_score(y_train, abc.predict(x_train))}\")\n",
        "print(f\"Acurácia ABC (Teste): {accuracy_score(y_test, abc.predict(x_test))}\")\n",
        "print(\"====================================\")\n",
        "print(f\"Precision ABC (Treino): {precision_score(y_train, abc.predict(x_train), average='macro')}\")\n",
        "print(f\"Precision ABC (Teste): {precision_score(y_test, abc.predict(x_test), average='macro')}\")\n",
        "print(\"====================================\")\n",
        "print(f\"Recall ABC (Treino): {recall_score(y_train, abc.predict(x_train), average='macro')}\")\n",
        "print(f\"Recall ABC (Teste): {recall_score(y_test, abc.predict(x_test), average='macro')}\")\n",
        "print(\"====================================\")\n",
        "print(f\"F1-Score ABC (Treino): {f1_score(y_train, abc.predict(x_train), average='macro')}\")\n",
        "print(f\"F1-Score ABC (Teste): {f1_score(y_test, abc.predict(x_test), average='macro')}\")"
      ]
    },
    {
      "cell_type": "code",
      "execution_count": null,
      "metadata": {
        "id": "xFuiQchlEf8f",
        "outputId": "011ce519-df96-4814-b9cc-b5cfb4deda04"
      },
      "outputs": [
        {
          "name": "stdout",
          "output_type": "stream",
          "text": [
            "valor: 60.000000%\n",
            "dias_cad_verif: 28.000000%\n",
            "limite_profissionais: 10.000000%\n",
            "pagamento_online: 2.000000%\n",
            "tier_5_ENTERPRISE: 0.000000%\n",
            "tier_4_LARGE: 0.000000%\n",
            "tier_3_MEDIUM: 0.000000%\n",
            "tier_2_SMALL: 0.000000%\n",
            "tier_1_MICRO: 0.000000%\n",
            "avecpay_id: 0.000000%\n"
          ]
        }
      ],
      "source": [
        "features_importance = zip(abc.feature_importances_, x_features)\n",
        "for importance, feature in sorted(features_importance, reverse=True):\n",
        "    print(\"%s: %f%%\" % (feature, importance*100))"
      ]
    },
    {
      "cell_type": "markdown",
      "metadata": {
        "id": "WJhDXOywEf8f"
      },
      "source": [
        "### Gradient Boosting Classifier"
      ]
    },
    {
      "cell_type": "code",
      "execution_count": null,
      "metadata": {
        "id": "8qH8vd7xEf8g",
        "outputId": "46653a56-ce34-41d0-d87f-a08d6b77bd9a"
      },
      "outputs": [
        {
          "data": {
            "text/html": [
              "<style>#sk-container-id-23 {color: black;background-color: white;}#sk-container-id-23 pre{padding: 0;}#sk-container-id-23 div.sk-toggleable {background-color: white;}#sk-container-id-23 label.sk-toggleable__label {cursor: pointer;display: block;width: 100%;margin-bottom: 0;padding: 0.3em;box-sizing: border-box;text-align: center;}#sk-container-id-23 label.sk-toggleable__label-arrow:before {content: \"▸\";float: left;margin-right: 0.25em;color: #696969;}#sk-container-id-23 label.sk-toggleable__label-arrow:hover:before {color: black;}#sk-container-id-23 div.sk-estimator:hover label.sk-toggleable__label-arrow:before {color: black;}#sk-container-id-23 div.sk-toggleable__content {max-height: 0;max-width: 0;overflow: hidden;text-align: left;background-color: #f0f8ff;}#sk-container-id-23 div.sk-toggleable__content pre {margin: 0.2em;color: black;border-radius: 0.25em;background-color: #f0f8ff;}#sk-container-id-23 input.sk-toggleable__control:checked~div.sk-toggleable__content {max-height: 200px;max-width: 100%;overflow: auto;}#sk-container-id-23 input.sk-toggleable__control:checked~label.sk-toggleable__label-arrow:before {content: \"▾\";}#sk-container-id-23 div.sk-estimator input.sk-toggleable__control:checked~label.sk-toggleable__label {background-color: #d4ebff;}#sk-container-id-23 div.sk-label input.sk-toggleable__control:checked~label.sk-toggleable__label {background-color: #d4ebff;}#sk-container-id-23 input.sk-hidden--visually {border: 0;clip: rect(1px 1px 1px 1px);clip: rect(1px, 1px, 1px, 1px);height: 1px;margin: -1px;overflow: hidden;padding: 0;position: absolute;width: 1px;}#sk-container-id-23 div.sk-estimator {font-family: monospace;background-color: #f0f8ff;border: 1px dotted black;border-radius: 0.25em;box-sizing: border-box;margin-bottom: 0.5em;}#sk-container-id-23 div.sk-estimator:hover {background-color: #d4ebff;}#sk-container-id-23 div.sk-parallel-item::after {content: \"\";width: 100%;border-bottom: 1px solid gray;flex-grow: 1;}#sk-container-id-23 div.sk-label:hover label.sk-toggleable__label {background-color: #d4ebff;}#sk-container-id-23 div.sk-serial::before {content: \"\";position: absolute;border-left: 1px solid gray;box-sizing: border-box;top: 0;bottom: 0;left: 50%;z-index: 0;}#sk-container-id-23 div.sk-serial {display: flex;flex-direction: column;align-items: center;background-color: white;padding-right: 0.2em;padding-left: 0.2em;position: relative;}#sk-container-id-23 div.sk-item {position: relative;z-index: 1;}#sk-container-id-23 div.sk-parallel {display: flex;align-items: stretch;justify-content: center;background-color: white;position: relative;}#sk-container-id-23 div.sk-item::before, #sk-container-id-23 div.sk-parallel-item::before {content: \"\";position: absolute;border-left: 1px solid gray;box-sizing: border-box;top: 0;bottom: 0;left: 50%;z-index: -1;}#sk-container-id-23 div.sk-parallel-item {display: flex;flex-direction: column;z-index: 1;position: relative;background-color: white;}#sk-container-id-23 div.sk-parallel-item:first-child::after {align-self: flex-end;width: 50%;}#sk-container-id-23 div.sk-parallel-item:last-child::after {align-self: flex-start;width: 50%;}#sk-container-id-23 div.sk-parallel-item:only-child::after {width: 0;}#sk-container-id-23 div.sk-dashed-wrapped {border: 1px dashed gray;margin: 0 0.4em 0.5em 0.4em;box-sizing: border-box;padding-bottom: 0.4em;background-color: white;}#sk-container-id-23 div.sk-label label {font-family: monospace;font-weight: bold;display: inline-block;line-height: 1.2em;}#sk-container-id-23 div.sk-label-container {text-align: center;}#sk-container-id-23 div.sk-container {/* jupyter's `normalize.less` sets `[hidden] { display: none; }` but bootstrap.min.css set `[hidden] { display: none !important; }` so we also need the `!important` here to be able to override the default hidden behavior on the sphinx rendered scikit-learn.org. See: https://github.com/scikit-learn/scikit-learn/issues/21755 */display: inline-block !important;position: relative;}#sk-container-id-23 div.sk-text-repr-fallback {display: none;}</style><div id=\"sk-container-id-23\" class=\"sk-top-container\"><div class=\"sk-text-repr-fallback\"><pre>GradientBoostingClassifier(random_state=42)</pre><b>In a Jupyter environment, please rerun this cell to show the HTML representation or trust the notebook. <br />On GitHub, the HTML representation is unable to render, please try loading this page with nbviewer.org.</b></div><div class=\"sk-container\" hidden><div class=\"sk-item\"><div class=\"sk-estimator sk-toggleable\"><input class=\"sk-toggleable__control sk-hidden--visually\" id=\"sk-estimator-id-27\" type=\"checkbox\" checked><label for=\"sk-estimator-id-27\" class=\"sk-toggleable__label sk-toggleable__label-arrow\">GradientBoostingClassifier</label><div class=\"sk-toggleable__content\"><pre>GradientBoostingClassifier(random_state=42)</pre></div></div></div></div></div>"
            ],
            "text/plain": [
              "GradientBoostingClassifier(random_state=42)"
            ]
          },
          "execution_count": 303,
          "metadata": {},
          "output_type": "execute_result"
        }
      ],
      "source": [
        "gbc = GradientBoostingClassifier(random_state=42)\n",
        "gbc.fit(x_res, y_res)"
      ]
    },
    {
      "cell_type": "markdown",
      "metadata": {
        "id": "LDov1cYBEf8g"
      },
      "source": [
        "#### Avaliação do Modelo GBC"
      ]
    },
    {
      "cell_type": "code",
      "execution_count": null,
      "metadata": {
        "id": "EFrvgFQLEf8g",
        "outputId": "5d0ed461-5bc5-4a32-835d-b3389c9c56b8"
      },
      "outputs": [
        {
          "data": {
            "text/plain": [
              "array([0, 1])"
            ]
          },
          "execution_count": 304,
          "metadata": {},
          "output_type": "execute_result"
        }
      ],
      "source": [
        "gbc_pred = pd.DataFrame(gbc.predict(x_test), columns=['status_churn'])\n",
        "gbc_pred.status_churn.unique()"
      ]
    },
    {
      "cell_type": "code",
      "execution_count": null,
      "metadata": {
        "id": "8uwNMMR4Ef8g",
        "outputId": "fd65ece6-750b-4c3b-a45e-5b06d09e58bf"
      },
      "outputs": [
        {
          "data": {
            "text/plain": [
              "0    20936\n",
              "1    11982\n",
              "Name: status_churn, dtype: int64"
            ]
          },
          "execution_count": 305,
          "metadata": {},
          "output_type": "execute_result"
        }
      ],
      "source": [
        "gbc_pred.status_churn.value_counts()"
      ]
    },
    {
      "cell_type": "code",
      "execution_count": null,
      "metadata": {
        "id": "wdpME1B5Ef8h",
        "outputId": "365efaf5-d320-490f-bac6-a4cc194124e2"
      },
      "outputs": [
        {
          "data": {
            "image/png": "[encoded data removed]",
            "text/plain": [
              "<Figure size 640x480 with 2 Axes>"
            ]
          },
          "metadata": {},
          "output_type": "display_data"
        }
      ],
      "source": [
        "cm = confusion_matrix(y_test, gbc_pred, labels=gbc.classes_)\n",
        "# disp = ConfusionMatrixDisplay(confusion_matrix=cm, display_labels=rf.classes_)\n",
        "# disp.plot()\n",
        "# plt.show()\n",
        "sns.heatmap(cm/np.sum(cm), annot=True, fmt='.2%', cmap='Greens')\n",
        "plt.show()"
      ]
    },
    {
      "cell_type": "code",
      "execution_count": null,
      "metadata": {
        "id": "14PvSKEwEf8h",
        "outputId": "e77c89b6-79ac-4beb-cb05-a6160762f068"
      },
      "outputs": [
        {
          "name": "stdout",
          "output_type": "stream",
          "text": [
            "Acurácia GBC (Treino): 0.7936906792349656\n",
            "Acurácia GBC (Teste): 0.7902667233732305\n",
            "====================================\n",
            "Precision GBC (Treino): 0.7397675605329113\n",
            "Precision GBC (Teste): 0.7357268667936308\n",
            "====================================\n",
            "Recall GBC (Treino): 0.8079419868706683\n",
            "Recall GBC (Teste): 0.8032210037311589\n",
            "====================================\n",
            "F1-Score GBC (Treino): 0.754520812521411\n",
            "F1-Score GBC (Teste): 0.7501670636268671\n"
          ]
        }
      ],
      "source": [
        "print(f\"Acurácia GBC (Treino): {accuracy_score(y_train, gbc.predict(x_train))}\")\n",
        "print(f\"Acurácia GBC (Teste): {accuracy_score(y_test, gbc.predict(x_test))}\")\n",
        "print(\"====================================\")\n",
        "print(f\"Precision GBC (Treino): {precision_score(y_train, gbc.predict(x_train), average='macro')}\")\n",
        "print(f\"Precision GBC (Teste): {precision_score(y_test, gbc.predict(x_test), average='macro')}\")\n",
        "print(\"====================================\")\n",
        "print(f\"Recall GBC (Treino): {recall_score(y_train, gbc.predict(x_train), average='macro')}\")\n",
        "print(f\"Recall GBC (Teste): {recall_score(y_test, gbc.predict(x_test), average='macro')}\")\n",
        "print(\"====================================\")\n",
        "print(f\"F1-Score GBC (Treino): {f1_score(y_train, gbc.predict(x_train), average='macro')}\")\n",
        "print(f\"F1-Score GBC (Teste): {f1_score(y_test, gbc.predict(x_test), average='macro')}\")"
      ]
    },
    {
      "cell_type": "code",
      "execution_count": null,
      "metadata": {
        "id": "zuWFBxMIEf8h",
        "outputId": "f9e2e1b9-c410-4f04-f6ca-11536be2b574"
      },
      "outputs": [
        {
          "name": "stdout",
          "output_type": "stream",
          "text": [
            "valor: 64.570012%\n",
            "dias_cad_verif: 29.650546%\n",
            "limite_profissionais: 5.504065%\n",
            "tier_1_MICRO: 0.121720%\n",
            "pagamento_online: 0.090884%\n",
            "tier_2_SMALL: 0.033481%\n",
            "tier_3_MEDIUM: 0.017420%\n",
            "tier_4_LARGE: 0.011872%\n",
            "tier_5_ENTERPRISE: 0.000000%\n",
            "avecpay_id: 0.000000%\n"
          ]
        }
      ],
      "source": [
        "features_importance = zip(gbc.feature_importances_, x_features)\n",
        "for importance, feature in sorted(features_importance, reverse=True):\n",
        "    print(\"%s: %f%%\" % (feature, importance*100))"
      ]
    }
  ],
  "metadata": {
    "accelerator": "TPU",
    "colab": {
      "provenance": [],
      "toc_visible": true,
      "include_colab_link": true
    },
    "gpuClass": "standard",
    "kernelspec": {
      "display_name": "Python 3",
      "name": "python3"
    },
    "language_info": {
      "codemirror_mode": {
        "name": "ipython",
        "version": 3
      },
      "file_extension": ".py",
      "mimetype": "text/x-python",
      "name": "python",
      "nbconvert_exporter": "python",
      "pygments_lexer": "ipython3",
      "version": "3.8.16"
    }
  },
  "nbformat": 4,
  "nbformat_minor": 0
}